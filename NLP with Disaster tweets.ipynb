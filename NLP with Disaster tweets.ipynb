{
 "cells": [
  {
   "cell_type": "code",
   "execution_count": 1,
   "id": "a0e3ae25",
   "metadata": {
    "scrolled": true
   },
   "outputs": [],
   "source": [
    "import pandas as pd\n",
    "import tensorflow as tf\n",
    "from sklearn.model_selection import train_test_split"
   ]
  },
  {
   "cell_type": "code",
   "execution_count": 2,
   "id": "398a64ad",
   "metadata": {},
   "outputs": [
    {
     "data": {
      "text/html": [
       "<div>\n",
       "<style scoped>\n",
       "    .dataframe tbody tr th:only-of-type {\n",
       "        vertical-align: middle;\n",
       "    }\n",
       "\n",
       "    .dataframe tbody tr th {\n",
       "        vertical-align: top;\n",
       "    }\n",
       "\n",
       "    .dataframe thead th {\n",
       "        text-align: right;\n",
       "    }\n",
       "</style>\n",
       "<table border=\"1\" class=\"dataframe\">\n",
       "  <thead>\n",
       "    <tr style=\"text-align: right;\">\n",
       "      <th></th>\n",
       "      <th>id</th>\n",
       "      <th>keyword</th>\n",
       "      <th>location</th>\n",
       "      <th>text</th>\n",
       "      <th>target</th>\n",
       "    </tr>\n",
       "  </thead>\n",
       "  <tbody>\n",
       "    <tr>\n",
       "      <th>0</th>\n",
       "      <td>1</td>\n",
       "      <td>NaN</td>\n",
       "      <td>NaN</td>\n",
       "      <td>Our Deeds are the Reason of this #earthquake M...</td>\n",
       "      <td>1</td>\n",
       "    </tr>\n",
       "    <tr>\n",
       "      <th>1</th>\n",
       "      <td>4</td>\n",
       "      <td>NaN</td>\n",
       "      <td>NaN</td>\n",
       "      <td>Forest fire near La Ronge Sask. Canada</td>\n",
       "      <td>1</td>\n",
       "    </tr>\n",
       "    <tr>\n",
       "      <th>2</th>\n",
       "      <td>5</td>\n",
       "      <td>NaN</td>\n",
       "      <td>NaN</td>\n",
       "      <td>All residents asked to 'shelter in place' are ...</td>\n",
       "      <td>1</td>\n",
       "    </tr>\n",
       "    <tr>\n",
       "      <th>3</th>\n",
       "      <td>6</td>\n",
       "      <td>NaN</td>\n",
       "      <td>NaN</td>\n",
       "      <td>13,000 people receive #wildfires evacuation or...</td>\n",
       "      <td>1</td>\n",
       "    </tr>\n",
       "    <tr>\n",
       "      <th>4</th>\n",
       "      <td>7</td>\n",
       "      <td>NaN</td>\n",
       "      <td>NaN</td>\n",
       "      <td>Just got sent this photo from Ruby #Alaska as ...</td>\n",
       "      <td>1</td>\n",
       "    </tr>\n",
       "  </tbody>\n",
       "</table>\n",
       "</div>"
      ],
      "text/plain": [
       "   id keyword location                                               text  \\\n",
       "0   1     NaN      NaN  Our Deeds are the Reason of this #earthquake M...   \n",
       "1   4     NaN      NaN             Forest fire near La Ronge Sask. Canada   \n",
       "2   5     NaN      NaN  All residents asked to 'shelter in place' are ...   \n",
       "3   6     NaN      NaN  13,000 people receive #wildfires evacuation or...   \n",
       "4   7     NaN      NaN  Just got sent this photo from Ruby #Alaska as ...   \n",
       "\n",
       "   target  \n",
       "0       1  \n",
       "1       1  \n",
       "2       1  \n",
       "3       1  \n",
       "4       1  "
      ]
     },
     "execution_count": 2,
     "metadata": {},
     "output_type": "execute_result"
    }
   ],
   "source": [
    "train_df=pd.read_csv(\"data/train.csv\")\n",
    "test_df = pd.read_csv(\"data/test.csv\")\n",
    "train_df.head()"
   ]
  },
  {
   "cell_type": "code",
   "execution_count": 3,
   "id": "d2c1170d",
   "metadata": {},
   "outputs": [
    {
     "data": {
      "text/html": [
       "<div>\n",
       "<style scoped>\n",
       "    .dataframe tbody tr th:only-of-type {\n",
       "        vertical-align: middle;\n",
       "    }\n",
       "\n",
       "    .dataframe tbody tr th {\n",
       "        vertical-align: top;\n",
       "    }\n",
       "\n",
       "    .dataframe thead th {\n",
       "        text-align: right;\n",
       "    }\n",
       "</style>\n",
       "<table border=\"1\" class=\"dataframe\">\n",
       "  <thead>\n",
       "    <tr style=\"text-align: right;\">\n",
       "      <th></th>\n",
       "      <th>id</th>\n",
       "      <th>keyword</th>\n",
       "      <th>location</th>\n",
       "      <th>text</th>\n",
       "      <th>target</th>\n",
       "    </tr>\n",
       "  </thead>\n",
       "  <tbody>\n",
       "    <tr>\n",
       "      <th>2644</th>\n",
       "      <td>3796</td>\n",
       "      <td>destruction</td>\n",
       "      <td>NaN</td>\n",
       "      <td>So you have a new weapon that can cause un-ima...</td>\n",
       "      <td>1</td>\n",
       "    </tr>\n",
       "    <tr>\n",
       "      <th>2227</th>\n",
       "      <td>3185</td>\n",
       "      <td>deluge</td>\n",
       "      <td>NaN</td>\n",
       "      <td>The f$&amp;amp;@ing things I do for #GISHWHES Just...</td>\n",
       "      <td>0</td>\n",
       "    </tr>\n",
       "    <tr>\n",
       "      <th>5448</th>\n",
       "      <td>7769</td>\n",
       "      <td>police</td>\n",
       "      <td>UK</td>\n",
       "      <td>DT @georgegalloway: RT @Galloway4Mayor: ÛÏThe...</td>\n",
       "      <td>1</td>\n",
       "    </tr>\n",
       "    <tr>\n",
       "      <th>132</th>\n",
       "      <td>191</td>\n",
       "      <td>aftershock</td>\n",
       "      <td>NaN</td>\n",
       "      <td>Aftershock back to school kick off was great. ...</td>\n",
       "      <td>0</td>\n",
       "    </tr>\n",
       "    <tr>\n",
       "      <th>6845</th>\n",
       "      <td>9810</td>\n",
       "      <td>trauma</td>\n",
       "      <td>Montgomery County, MD</td>\n",
       "      <td>in response to trauma Children of Addicts deve...</td>\n",
       "      <td>0</td>\n",
       "    </tr>\n",
       "  </tbody>\n",
       "</table>\n",
       "</div>"
      ],
      "text/plain": [
       "        id      keyword               location  \\\n",
       "2644  3796  destruction                    NaN   \n",
       "2227  3185       deluge                    NaN   \n",
       "5448  7769       police                     UK   \n",
       "132    191   aftershock                    NaN   \n",
       "6845  9810       trauma  Montgomery County, MD   \n",
       "\n",
       "                                                   text  target  \n",
       "2644  So you have a new weapon that can cause un-ima...       1  \n",
       "2227  The f$&amp;@ing things I do for #GISHWHES Just...       0  \n",
       "5448  DT @georgegalloway: RT @Galloway4Mayor: ÛÏThe...       1  \n",
       "132   Aftershock back to school kick off was great. ...       0  \n",
       "6845  in response to trauma Children of Addicts deve...       0  "
      ]
     },
     "execution_count": 3,
     "metadata": {},
     "output_type": "execute_result"
    }
   ],
   "source": [
    "train_df_shuffled = train_df.sample(frac=1,random_state=42)\n",
    "train_df_shuffled.head()"
   ]
  },
  {
   "cell_type": "code",
   "execution_count": 4,
   "id": "c5447f75",
   "metadata": {},
   "outputs": [
    {
     "data": {
      "text/html": [
       "<div>\n",
       "<style scoped>\n",
       "    .dataframe tbody tr th:only-of-type {\n",
       "        vertical-align: middle;\n",
       "    }\n",
       "\n",
       "    .dataframe tbody tr th {\n",
       "        vertical-align: top;\n",
       "    }\n",
       "\n",
       "    .dataframe thead th {\n",
       "        text-align: right;\n",
       "    }\n",
       "</style>\n",
       "<table border=\"1\" class=\"dataframe\">\n",
       "  <thead>\n",
       "    <tr style=\"text-align: right;\">\n",
       "      <th></th>\n",
       "      <th>id</th>\n",
       "      <th>keyword</th>\n",
       "      <th>location</th>\n",
       "      <th>text</th>\n",
       "    </tr>\n",
       "  </thead>\n",
       "  <tbody>\n",
       "    <tr>\n",
       "      <th>0</th>\n",
       "      <td>0</td>\n",
       "      <td>NaN</td>\n",
       "      <td>NaN</td>\n",
       "      <td>Just happened a terrible car crash</td>\n",
       "    </tr>\n",
       "    <tr>\n",
       "      <th>1</th>\n",
       "      <td>2</td>\n",
       "      <td>NaN</td>\n",
       "      <td>NaN</td>\n",
       "      <td>Heard about #earthquake is different cities, s...</td>\n",
       "    </tr>\n",
       "    <tr>\n",
       "      <th>2</th>\n",
       "      <td>3</td>\n",
       "      <td>NaN</td>\n",
       "      <td>NaN</td>\n",
       "      <td>there is a forest fire at spot pond, geese are...</td>\n",
       "    </tr>\n",
       "    <tr>\n",
       "      <th>3</th>\n",
       "      <td>9</td>\n",
       "      <td>NaN</td>\n",
       "      <td>NaN</td>\n",
       "      <td>Apocalypse lighting. #Spokane #wildfires</td>\n",
       "    </tr>\n",
       "    <tr>\n",
       "      <th>4</th>\n",
       "      <td>11</td>\n",
       "      <td>NaN</td>\n",
       "      <td>NaN</td>\n",
       "      <td>Typhoon Soudelor kills 28 in China and Taiwan</td>\n",
       "    </tr>\n",
       "  </tbody>\n",
       "</table>\n",
       "</div>"
      ],
      "text/plain": [
       "   id keyword location                                               text\n",
       "0   0     NaN      NaN                 Just happened a terrible car crash\n",
       "1   2     NaN      NaN  Heard about #earthquake is different cities, s...\n",
       "2   3     NaN      NaN  there is a forest fire at spot pond, geese are...\n",
       "3   9     NaN      NaN           Apocalypse lighting. #Spokane #wildfires\n",
       "4  11     NaN      NaN      Typhoon Soudelor kills 28 in China and Taiwan"
      ]
     },
     "execution_count": 4,
     "metadata": {},
     "output_type": "execute_result"
    }
   ],
   "source": [
    "test_df.head()"
   ]
  },
  {
   "cell_type": "code",
   "execution_count": 5,
   "id": "3e6feae0",
   "metadata": {},
   "outputs": [
    {
     "data": {
      "text/plain": [
       "0    4342\n",
       "1    3271\n",
       "Name: target, dtype: int64"
      ]
     },
     "execution_count": 5,
     "metadata": {},
     "output_type": "execute_result"
    }
   ],
   "source": [
    "train_df[\"target\"].value_counts()"
   ]
  },
  {
   "cell_type": "code",
   "execution_count": 6,
   "id": "3fc9e011",
   "metadata": {},
   "outputs": [
    {
     "data": {
      "text/plain": [
       "(7613, 3263)"
      ]
     },
     "execution_count": 6,
     "metadata": {},
     "output_type": "execute_result"
    }
   ],
   "source": [
    "len(train_df),len(test_df)"
   ]
  },
  {
   "cell_type": "code",
   "execution_count": 7,
   "id": "fbd3c14b",
   "metadata": {},
   "outputs": [
    {
     "name": "stdout",
     "output_type": "stream",
     "text": [
      "Target : 1  (Real Disaster)\n",
      "Text :\n",
      "13 security personnel killed in Iraq suicide bombing | http://t.co/IbAZRHlSUr http://t.co/B6wWq2nYQI\n",
      "\n",
      "----\n",
      "\n",
      "Target : 0 (Not a Disaster)\n",
      "Text :\n",
      "Panicking because maybe my bff left me at China Bar or maybe tindering on the toilet for 20mins\n",
      "\n",
      "----\n",
      "\n",
      "Target : 1  (Real Disaster)\n",
      "Text :\n",
      "@ameenshaikh3 by ur. logic if bridge didnt collapse then second train engine should cross bridge then  @sanjaynirupam @sureshprabhu\n",
      "\n",
      "----\n",
      "\n",
      "Target : 0 (Not a Disaster)\n",
      "Text :\n",
      "lmao fuckboy changed his @ for damage control\n",
      "@Pseudojuuzo\n",
      "\n",
      "----\n",
      "\n",
      "Target : 1  (Real Disaster)\n",
      "Text :\n",
      "#Battlefield 1942 forgotten hope secret weapons\n",
      "\n",
      "----\n",
      "\n"
     ]
    }
   ],
   "source": [
    "#Visualising data\n",
    "import random\n",
    "random_index = random.randint(0,len(train_df)-5)\n",
    "\n",
    "for row in train_df_shuffled[[\"text\",\"target\"]][random_index:random_index+5].itertuples():\n",
    "    _,text,target = row\n",
    "    print(f\"Target : {target}\",\" (Real Disaster)\" if target==1 else \"(Not a Disaster)\")\n",
    "    print(f\"Text :\\n{text}\\n\")\n",
    "    print(\"----\\n\")"
   ]
  },
  {
   "cell_type": "markdown",
   "id": "6d9cfc64",
   "metadata": {},
   "source": [
    "## Splitting data into training and validation sets"
   ]
  },
  {
   "cell_type": "code",
   "execution_count": 8,
   "id": "1f611b15",
   "metadata": {},
   "outputs": [],
   "source": [
    "X_train,X_val,y_train,y_val = train_test_split(train_df_shuffled[\"text\"].to_numpy(),\n",
    "                                               train_df_shuffled[\"target\"].to_numpy(),\n",
    "                                               test_size=0.1,random_state=42)"
   ]
  },
  {
   "cell_type": "code",
   "execution_count": 9,
   "id": "b57cd85a",
   "metadata": {},
   "outputs": [
    {
     "data": {
      "text/plain": [
       "(6851, 762, 6851, 762)"
      ]
     },
     "execution_count": 9,
     "metadata": {},
     "output_type": "execute_result"
    }
   ],
   "source": [
    "len(X_train),len(X_val),len(y_train),len(y_val)"
   ]
  },
  {
   "cell_type": "code",
   "execution_count": 10,
   "id": "825493c9",
   "metadata": {},
   "outputs": [
    {
     "data": {
      "text/plain": [
       "(array(['@mogacola @zamtriossu i screamed after hitting tweet',\n",
       "        'Imagine getting flattened by Kurt Zouma',\n",
       "        '@Gurmeetramrahim #MSGDoing111WelfareWorks Green S welfare force ke appx 65000 members har time disaster victim ki help ke liye tyar hai....',\n",
       "        \"@shakjn @C7 @Magnums im shaking in fear he's gonna hack the planet\",\n",
       "        'Somehow find you and I collide http://t.co/Ee8RpOahPk'],\n",
       "       dtype=object),\n",
       " array([0, 0, 1, 0, 0], dtype=int64))"
      ]
     },
     "execution_count": 10,
     "metadata": {},
     "output_type": "execute_result"
    }
   ],
   "source": [
    "# Checking top 5 samples\n",
    "X_train[:5],y_train[:5]"
   ]
  },
  {
   "cell_type": "markdown",
   "id": "c00b682b",
   "metadata": {},
   "source": [
    "## Converting text data into number"
   ]
  },
  {
   "cell_type": "code",
   "execution_count": 11,
   "id": "f9c3dab2",
   "metadata": {},
   "outputs": [],
   "source": [
    "# Text Vectorization (Tokenization)\n",
    "from tensorflow.keras.layers.experimental.preprocessing import TextVectorization\n",
    "\n",
    "#Using default parameteras\n",
    "text_vectorizer = TextVectorization(max_tokens=None, # Total no. of words in the vocab (if it is set to 100 it will take most common 100 words and replace rest with<OOV>)\n",
    "                                    standardize=\"lower_and_strip_punctuation\", #Lower case string\n",
    "                                    split=\"whitespace\", #Break the tokens on spaces\n",
    "                                    ngrams=None, # Creategroups of n words\n",
    "                                    output_mode=\"int\", # To map tokens with numbers\n",
    "                                    output_sequence_length=None, # Length of tokens\n",
    "                                    pad_to_max_tokens=True)"
   ]
  },
  {
   "cell_type": "code",
   "execution_count": 12,
   "id": "a6f994a3",
   "metadata": {},
   "outputs": [
    {
     "data": {
      "text/plain": [
       "15"
      ]
     },
     "execution_count": 12,
     "metadata": {},
     "output_type": "execute_result"
    }
   ],
   "source": [
    "#Find the average number of tokens (words) in each tweet\n",
    "round(sum([len(item.split()) for item in X_train])/len(X_train))"
   ]
  },
  {
   "cell_type": "code",
   "execution_count": 13,
   "id": "08bbc10d",
   "metadata": {},
   "outputs": [],
   "source": [
    "#Setup text vectorization in variables\n",
    "max_vocab_length = 10000\n",
    "max_length = 15\n",
    "\n",
    "#Using default parameteras\n",
    "text_vectorizer = TextVectorization(max_tokens=max_vocab_length,output_mode=\"int\",output_sequence_length=max_length)\n",
    "\n",
    "#Fit the vectorizer to training data\n",
    "text_vectorizer.adapt(X_train)"
   ]
  },
  {
   "cell_type": "code",
   "execution_count": 14,
   "id": "db0e55c8",
   "metadata": {},
   "outputs": [
    {
     "data": {
      "text/plain": [
       "<tf.Tensor: shape=(1, 15), dtype=int64, numpy=\n",
       "array([[1193, 1740, 2040, 2696, 1645, 2130, 1879,  248,   83,  322,  120,\n",
       "         193,   18,  462,    1]], dtype=int64)>"
      ]
     },
     "execution_count": 14,
     "metadata": {},
     "output_type": "execute_result"
    }
   ],
   "source": [
    "#Create a sample sentence and tokenize it\n",
    "text_vectorizer([X_train[23]])"
   ]
  },
  {
   "cell_type": "code",
   "execution_count": 15,
   "id": "386d33c2",
   "metadata": {},
   "outputs": [],
   "source": [
    "#Checking total words \n",
    "total_word_vocab = text_vectorizer.get_vocabulary()"
   ]
  },
  {
   "cell_type": "code",
   "execution_count": 16,
   "id": "39225d37",
   "metadata": {},
   "outputs": [
    {
     "data": {
      "text/plain": [
       "['', '[UNK]', 'the', 'a', 'in']"
      ]
     },
     "execution_count": 16,
     "metadata": {},
     "output_type": "execute_result"
    }
   ],
   "source": [
    "total_word_vocab[:5]"
   ]
  },
  {
   "cell_type": "markdown",
   "id": "e1db499c",
   "metadata": {},
   "source": [
    "## Creating  embadding  with an embadding layer"
   ]
  },
  {
   "cell_type": "code",
   "execution_count": 17,
   "id": "9537195b",
   "metadata": {},
   "outputs": [
    {
     "data": {
      "text/plain": [
       "<tensorflow.python.keras.layers.embeddings.Embedding at 0x1f5a778a820>"
      ]
     },
     "execution_count": 17,
     "metadata": {},
     "output_type": "execute_result"
    }
   ],
   "source": [
    "from tensorflow.keras import layers\n",
    "\n",
    "embedding = layers.Embedding(input_dim=max_vocab_length,output_dim=128,input_length=max_length)\n",
    "embedding"
   ]
  },
  {
   "cell_type": "code",
   "execution_count": 18,
   "id": "a35fda70",
   "metadata": {},
   "outputs": [],
   "source": [
    "#Create a sample sentence and embed it\n",
    "embedded_sentence = embedding(text_vectorizer([X_train[23]]))"
   ]
  },
  {
   "cell_type": "code",
   "execution_count": 19,
   "id": "e87c6251",
   "metadata": {},
   "outputs": [
    {
     "data": {
      "text/plain": [
       "<tf.Tensor: shape=(1, 15, 128), dtype=float32, numpy=\n",
       "array([[[-2.7777329e-03, -4.2948972e-02, -8.9228526e-03, ...,\n",
       "          3.4008089e-02,  4.9238231e-02,  3.2595050e-02],\n",
       "        [ 4.0701400e-02, -4.5391262e-02,  3.9375234e-02, ...,\n",
       "          1.7802801e-02,  1.9731522e-03, -4.6471942e-02],\n",
       "        [-5.1864237e-04,  2.3384783e-02,  3.5191070e-02, ...,\n",
       "          4.9832966e-02, -1.3081301e-02,  4.1282240e-02],\n",
       "        ...,\n",
       "        [-2.2172904e-02, -4.1897409e-03,  1.2636185e-05, ...,\n",
       "          1.6679876e-03,  1.0239705e-03, -2.0671451e-02],\n",
       "        [-4.9943533e-02, -3.1334005e-02, -2.8706038e-02, ...,\n",
       "         -1.2612566e-03, -2.4933442e-03, -3.3519648e-02],\n",
       "        [-1.9809827e-03, -4.0068936e-02,  1.2618292e-02, ...,\n",
       "          4.0014241e-02, -6.0355179e-03,  1.7127048e-02]]], dtype=float32)>"
      ]
     },
     "execution_count": 19,
     "metadata": {},
     "output_type": "execute_result"
    }
   ],
   "source": [
    "embedded_sentence"
   ]
  },
  {
   "cell_type": "markdown",
   "id": "69ba53ed",
   "metadata": {},
   "source": [
    "## Modelling a text dataset\n",
    "\n",
    "We'll be building the following:\n",
    "* **Model 0**: Naive Bayes (baseline)\n",
    "* **Model 1**: Feed-forward neural network (dense model)\n",
    "* **Model 2**: LSTM model\n",
    "* **Model 3**: GRU model\n",
    "* **Model 4**: Bidirectional-LSTM model\n",
    "* **Model 5**: 1D Convolutional Neural Network\n",
    "* **Model 6**: TensorFlow Hub Pretrained Feature Extractor\n",
    "* **Model 7**: Same as model 6 with 10% of training data\n"
   ]
  },
  {
   "cell_type": "code",
   "execution_count": 20,
   "id": "e22fb669",
   "metadata": {},
   "outputs": [
    {
     "data": {
      "text/plain": [
       "Pipeline(steps=[('tfidf', TfidfVectorizer()), ('clf', MultinomialNB())])"
      ]
     },
     "execution_count": 20,
     "metadata": {},
     "output_type": "execute_result"
    }
   ],
   "source": [
    "#Building Model 0 Naive Bayes (baseline)\n",
    "\n",
    "from sklearn.feature_extraction.text import TfidfVectorizer\n",
    "from sklearn.naive_bayes import MultinomialNB\n",
    "from sklearn.pipeline import Pipeline\n",
    "\n",
    "#Create tokenization and modeling pipeline\n",
    "model_0 = Pipeline([\n",
    "    (\"tfidf\",TfidfVectorizer()), #convert words to numbers usinf tfidf\n",
    "    (\"clf\",MultinomialNB()) # Model the text\n",
    "    \n",
    "])\n",
    "\n",
    "#Fit the pipeline with training data\n",
    "model_0.fit(X_train,y_train)"
   ]
  },
  {
   "cell_type": "code",
   "execution_count": 21,
   "id": "331b3a05",
   "metadata": {},
   "outputs": [
    {
     "data": {
      "text/plain": [
       "0.7926509186351706"
      ]
     },
     "execution_count": 21,
     "metadata": {},
     "output_type": "execute_result"
    }
   ],
   "source": [
    "# Evaluate the baseline model\n",
    "baseline_score = model_0.score(X_val,y_val)\n",
    "baseline_score"
   ]
  },
  {
   "cell_type": "code",
   "execution_count": 22,
   "id": "85787570",
   "metadata": {},
   "outputs": [
    {
     "data": {
      "text/plain": [
       "array([1, 1, 1, 0, 0, 1, 1, 1, 1, 0, 0, 1, 0, 0, 0, 0, 0, 0, 0, 1],\n",
       "      dtype=int64)"
      ]
     },
     "execution_count": 22,
     "metadata": {},
     "output_type": "execute_result"
    }
   ],
   "source": [
    "# Making Prediction\n",
    "baseline_preds=model_0.predict(X_val)\n",
    "baseline_preds[:20]"
   ]
  },
  {
   "cell_type": "code",
   "execution_count": 23,
   "id": "a6f76ec7",
   "metadata": {},
   "outputs": [],
   "source": [
    "# Function to evaluate: accuracy, precision, recall, f1-score\n",
    "from sklearn.metrics import accuracy_score, precision_recall_fscore_support\n",
    "\n",
    "def calculate_results(y_true, y_pred):\n",
    "    # Calculate model accuracy\n",
    "    model_accuracy = accuracy_score(y_true, y_pred) * 100\n",
    "    # Calculate model precision, recall and f1 score using \"weighted\" average\n",
    "    model_precision, model_recall, model_f1, _ = precision_recall_fscore_support(y_true, y_pred, average=\"weighted\")\n",
    "    model_results = {\"accuracy\": model_accuracy,\"precision\": model_precision,\"recall\": model_recall,\"f1\": model_f1}\n",
    "    return model_results"
   ]
  },
  {
   "cell_type": "code",
   "execution_count": 24,
   "id": "0e47b253",
   "metadata": {},
   "outputs": [
    {
     "data": {
      "text/plain": [
       "{'accuracy': 79.26509186351706,\n",
       " 'precision': 0.8111390004213173,\n",
       " 'recall': 0.7926509186351706,\n",
       " 'f1': 0.7862189758049549}"
      ]
     },
     "execution_count": 24,
     "metadata": {},
     "output_type": "execute_result"
    }
   ],
   "source": [
    "# Get baseline results\n",
    "baseline_results = calculate_results(y_true=y_val,y_pred=baseline_preds)\n",
    "baseline_results"
   ]
  },
  {
   "cell_type": "code",
   "execution_count": 25,
   "id": "91cd8755",
   "metadata": {},
   "outputs": [],
   "source": [
    "import datetime\n",
    "def create_tensorboard_callback(dir_name, experiment_name):\n",
    "    log_dir = dir_name + \"/\" + experiment_name + \"/\" + datetime.datetime.now().strftime(\"%Y%m%d-%H%M%S\")\n",
    "    tensorboard_callback = tf.keras.callbacks.TensorBoard(log_dir=log_dir)\n",
    "    print(f\"Saving TensorBoard log files to: {log_dir}\")\n",
    "    return tensorboard_callback\n"
   ]
  },
  {
   "cell_type": "code",
   "execution_count": 26,
   "id": "56a0ca2f",
   "metadata": {},
   "outputs": [],
   "source": [
    "#Building Model 1  Feed-forward neural network (dense model)\n",
    "from tensorflow.keras import layers\n",
    "inputs = layers.Input(shape=(1,),dtype=tf.string)\n",
    "x= text_vectorizer(inputs)\n",
    "x = embedding(x)\n",
    "x = layers.GlobalAveragePooling1D()(x)\n",
    "outputs = layers.Dense(1,activation=\"sigmoid\")(x)\n",
    "model_1 = tf.keras.Model(inputs,outputs,name=\"model_1_dense\")"
   ]
  },
  {
   "cell_type": "code",
   "execution_count": 27,
   "id": "9671b3c1",
   "metadata": {},
   "outputs": [
    {
     "name": "stdout",
     "output_type": "stream",
     "text": [
      "Model: \"model_1_dense\"\n",
      "_________________________________________________________________\n",
      "Layer (type)                 Output Shape              Param #   \n",
      "=================================================================\n",
      "input_1 (InputLayer)         [(None, 1)]               0         \n",
      "_________________________________________________________________\n",
      "text_vectorization_1 (TextVe (None, 15)                0         \n",
      "_________________________________________________________________\n",
      "embedding (Embedding)        (None, 15, 128)           1280000   \n",
      "_________________________________________________________________\n",
      "global_average_pooling1d (Gl (None, 128)               0         \n",
      "_________________________________________________________________\n",
      "dense (Dense)                (None, 1)                 129       \n",
      "=================================================================\n",
      "Total params: 1,280,129\n",
      "Trainable params: 1,280,129\n",
      "Non-trainable params: 0\n",
      "_________________________________________________________________\n"
     ]
    }
   ],
   "source": [
    "model_1.summary()"
   ]
  },
  {
   "cell_type": "code",
   "execution_count": 28,
   "id": "c37651af",
   "metadata": {},
   "outputs": [],
   "source": [
    "# Compile a model\n",
    "model_1.compile(loss=\"binary_crossentropy\",optimizer=tf.keras.optimizers.Adam(),metrics=[\"accuracy\"])"
   ]
  },
  {
   "cell_type": "code",
   "execution_count": 29,
   "id": "6888ed89",
   "metadata": {},
   "outputs": [
    {
     "name": "stdout",
     "output_type": "stream",
     "text": [
      "Saving TensorBoard log files to: model_logs/model_1_dense/20210522-125940\n",
      "Epoch 1/5\n",
      "215/215 [==============================] - 21s 53ms/step - loss: 0.6536 - accuracy: 0.6472 - val_loss: 0.5355 - val_accuracy: 0.7677\n",
      "Epoch 2/5\n",
      "215/215 [==============================] - 7s 33ms/step - loss: 0.4626 - accuracy: 0.8158 - val_loss: 0.4700 - val_accuracy: 0.7887\n",
      "Epoch 3/5\n",
      "215/215 [==============================] - 7s 33ms/step - loss: 0.3569 - accuracy: 0.8589 - val_loss: 0.4579 - val_accuracy: 0.7887\n",
      "Epoch 4/5\n",
      "215/215 [==============================] - 7s 33ms/step - loss: 0.2862 - accuracy: 0.8910 - val_loss: 0.4657 - val_accuracy: 0.7927\n",
      "Epoch 5/5\n",
      "215/215 [==============================] - 7s 34ms/step - loss: 0.2397 - accuracy: 0.9123 - val_loss: 0.4820 - val_accuracy: 0.7874\n"
     ]
    }
   ],
   "source": [
    "# Fit the model\n",
    "SAVE_DIR=\"model_logs\"\n",
    "model_1_history= model_1.fit(x=X_train,y=y_train,epochs=5,validation_data=(X_val,y_val),callbacks=[create_tensorboard_callback(dir_name=SAVE_DIR,experiment_name=\"model_1_dense\")])"
   ]
  },
  {
   "cell_type": "code",
   "execution_count": 30,
   "id": "ca924432",
   "metadata": {},
   "outputs": [
    {
     "name": "stdout",
     "output_type": "stream",
     "text": [
      "24/24 [==============================] - 0s 9ms/step - loss: 0.4820 - accuracy: 0.7874\n"
     ]
    },
    {
     "data": {
      "text/plain": [
       "[0.4819549322128296, 0.787401556968689]"
      ]
     },
     "execution_count": 30,
     "metadata": {},
     "output_type": "execute_result"
    }
   ],
   "source": [
    "model_1.evaluate(X_val,y_val)"
   ]
  },
  {
   "cell_type": "code",
   "execution_count": 31,
   "id": "a50a4aac",
   "metadata": {},
   "outputs": [],
   "source": [
    "model_1_preds_probs = model_1.predict(X_val)"
   ]
  },
  {
   "cell_type": "code",
   "execution_count": 32,
   "id": "3de0945a",
   "metadata": {},
   "outputs": [
    {
     "data": {
      "text/plain": [
       "(762, 1)"
      ]
     },
     "execution_count": 32,
     "metadata": {},
     "output_type": "execute_result"
    }
   ],
   "source": [
    "model_1_preds_probs.shape"
   ]
  },
  {
   "cell_type": "code",
   "execution_count": 33,
   "id": "8faa372b",
   "metadata": {},
   "outputs": [],
   "source": [
    "model_1_preds= tf.squeeze(tf.round(model_1_preds_probs))"
   ]
  },
  {
   "cell_type": "code",
   "execution_count": 34,
   "id": "f360ac7c",
   "metadata": {},
   "outputs": [
    {
     "data": {
      "text/plain": [
       "<tf.Tensor: shape=(20,), dtype=float32, numpy=\n",
       "array([0., 1., 1., 0., 0., 1., 1., 1., 1., 0., 0., 1., 0., 0., 0., 0., 0.,\n",
       "       0., 0., 1.], dtype=float32)>"
      ]
     },
     "execution_count": 34,
     "metadata": {},
     "output_type": "execute_result"
    }
   ],
   "source": [
    "model_1_preds[:20]"
   ]
  },
  {
   "cell_type": "code",
   "execution_count": 35,
   "id": "0cd250b4",
   "metadata": {},
   "outputs": [],
   "source": [
    "model_1_results = calculate_results(y_true=y_val,y_pred=model_1_preds)"
   ]
  },
  {
   "cell_type": "code",
   "execution_count": 36,
   "id": "407a90df",
   "metadata": {},
   "outputs": [
    {
     "data": {
      "text/plain": [
       "{'accuracy': 78.74015748031496,\n",
       " 'precision': 0.7932296029485675,\n",
       " 'recall': 0.7874015748031497,\n",
       " 'f1': 0.7841130596930417}"
      ]
     },
     "execution_count": 36,
     "metadata": {},
     "output_type": "execute_result"
    }
   ],
   "source": [
    "model_1_results"
   ]
  },
  {
   "cell_type": "code",
   "execution_count": 37,
   "id": "286c63f5",
   "metadata": {},
   "outputs": [
    {
     "data": {
      "text/plain": [
       "{'accuracy': 79.26509186351706,\n",
       " 'precision': 0.8111390004213173,\n",
       " 'recall': 0.7926509186351706,\n",
       " 'f1': 0.7862189758049549}"
      ]
     },
     "execution_count": 37,
     "metadata": {},
     "output_type": "execute_result"
    }
   ],
   "source": [
    "baseline_results"
   ]
  },
  {
   "cell_type": "markdown",
   "id": "9236b31f",
   "metadata": {},
   "source": [
    "## Visualize learned embadding"
   ]
  },
  {
   "cell_type": "code",
   "execution_count": 38,
   "id": "cd889bac",
   "metadata": {},
   "outputs": [
    {
     "data": {
      "text/plain": [
       "(10000, ['', '[UNK]', 'the', 'a', 'in', 'to', 'of', 'and', 'i', 'is'])"
      ]
     },
     "execution_count": 38,
     "metadata": {},
     "output_type": "execute_result"
    }
   ],
   "source": [
    "words_in_vocab = text_vectorizer.get_vocabulary()\n",
    "len(words_in_vocab),words_in_vocab[:10]"
   ]
  },
  {
   "cell_type": "code",
   "execution_count": 39,
   "id": "b5474225",
   "metadata": {},
   "outputs": [
    {
     "name": "stdout",
     "output_type": "stream",
     "text": [
      "Model: \"model_1_dense\"\n",
      "_________________________________________________________________\n",
      "Layer (type)                 Output Shape              Param #   \n",
      "=================================================================\n",
      "input_1 (InputLayer)         [(None, 1)]               0         \n",
      "_________________________________________________________________\n",
      "text_vectorization_1 (TextVe (None, 15)                0         \n",
      "_________________________________________________________________\n",
      "embedding (Embedding)        (None, 15, 128)           1280000   \n",
      "_________________________________________________________________\n",
      "global_average_pooling1d (Gl (None, 128)               0         \n",
      "_________________________________________________________________\n",
      "dense (Dense)                (None, 1)                 129       \n",
      "=================================================================\n",
      "Total params: 1,280,129\n",
      "Trainable params: 1,280,129\n",
      "Non-trainable params: 0\n",
      "_________________________________________________________________\n"
     ]
    }
   ],
   "source": [
    "model_1.summary()"
   ]
  },
  {
   "cell_type": "code",
   "execution_count": 40,
   "id": "430b4116",
   "metadata": {},
   "outputs": [
    {
     "data": {
      "text/plain": [
       "(10000, 128)"
      ]
     },
     "execution_count": 40,
     "metadata": {},
     "output_type": "execute_result"
    }
   ],
   "source": [
    "# Get the weight matrix of embedding layer\n",
    "embed_weights = model_1.get_layer(\"embedding\").get_weights()[0]\n",
    "embed_weights.shape"
   ]
  },
  {
   "cell_type": "code",
   "execution_count": 41,
   "id": "63e06b28",
   "metadata": {},
   "outputs": [],
   "source": [
    "# Create embedding files\n",
    "import io\n",
    "out_v = io.open('vectors.tsv','w',encoding='utf-8')\n",
    "out_m = io.open('metadata.tsv','w',encoding='utf-8')\n",
    "for index,word in enumerate(words_in_vocab):\n",
    "    if index==0:\n",
    "        continue\n",
    "    vec = embed_weights[index]\n",
    "    out_v.write('\\t'.join([str(x) for x in vec])+\"\\n\")\n",
    "    out_m.write(word +\"\\n\")\n",
    "out_v.close()\n",
    "out_m.close()"
   ]
  },
  {
   "cell_type": "markdown",
   "id": "f62b07ff",
   "metadata": {},
   "source": [
    "Use this link to get your data visualized -- https://projector.tensorflow.org/\n",
    "\n",
    "Need to upload the vector and metadata file created from above cell on this link."
   ]
  },
  {
   "cell_type": "markdown",
   "id": "7b7807d5",
   "metadata": {},
   "source": [
    "## Recurrent Nueral Network (RNN)\n",
    "\n",
    "Model 2 LSTM (Long short term Memory)\n",
    "\n",
    "Input(text) --> Tokens --> Embedding --> Layers(RNN/Dense) --> Ouput (Label Probability)\n"
   ]
  },
  {
   "cell_type": "code",
   "execution_count": 42,
   "id": "80856cac",
   "metadata": {},
   "outputs": [],
   "source": [
    "# Create a LSTM model\n",
    "from tensorflow.keras import layers\n",
    "inputs = layers.Input(shape=(1,),dtype=\"string\")\n",
    "x = text_vectorizer(inputs)\n",
    "x = embedding(x)\n",
    "#x = layers.LSTM(units=64,return_sequences=True)(x)\n",
    "x = layers.LSTM(64)(x)\n",
    "#x = layers.Dense(64,activation=\"relu\")(x)\n",
    "ouputs = layers.Dense(1,activation=\"sigmoid\")(x)\n",
    "model_2 = tf.keras.Model(inputs,ouputs,name=\"model_2_LSTM\")"
   ]
  },
  {
   "cell_type": "code",
   "execution_count": 43,
   "id": "76a5c2d7",
   "metadata": {},
   "outputs": [
    {
     "name": "stdout",
     "output_type": "stream",
     "text": [
      "Model: \"model_2_LSTM\"\n",
      "_________________________________________________________________\n",
      "Layer (type)                 Output Shape              Param #   \n",
      "=================================================================\n",
      "input_2 (InputLayer)         [(None, 1)]               0         \n",
      "_________________________________________________________________\n",
      "text_vectorization_1 (TextVe (None, 15)                0         \n",
      "_________________________________________________________________\n",
      "embedding (Embedding)        (None, 15, 128)           1280000   \n",
      "_________________________________________________________________\n",
      "lstm (LSTM)                  (None, 64)                49408     \n",
      "_________________________________________________________________\n",
      "dense_1 (Dense)              (None, 1)                 65        \n",
      "=================================================================\n",
      "Total params: 1,329,473\n",
      "Trainable params: 1,329,473\n",
      "Non-trainable params: 0\n",
      "_________________________________________________________________\n"
     ]
    }
   ],
   "source": [
    "model_2.summary()"
   ]
  },
  {
   "cell_type": "code",
   "execution_count": 44,
   "id": "b61eaf47",
   "metadata": {},
   "outputs": [],
   "source": [
    "#Compile the model\n",
    "model_2.compile(loss=\"binary_crossentropy\",optimizer=tf.keras.optimizers.Adam(),metrics=[\"accuracy\"])"
   ]
  },
  {
   "cell_type": "code",
   "execution_count": 45,
   "id": "55635508",
   "metadata": {},
   "outputs": [
    {
     "name": "stdout",
     "output_type": "stream",
     "text": [
      "Saving TensorBoard log files to: model_logs/model_2_LSTM/20210522-130037\n",
      "Epoch 1/5\n",
      "215/215 [==============================] - 29s 59ms/step - loss: 0.2796 - accuracy: 0.8998 - val_loss: 0.5640 - val_accuracy: 0.7808\n",
      "Epoch 2/5\n",
      "215/215 [==============================] - 9s 40ms/step - loss: 0.1523 - accuracy: 0.9419 - val_loss: 0.6166 - val_accuracy: 0.7822\n",
      "Epoch 3/5\n",
      "215/215 [==============================] - 9s 40ms/step - loss: 0.1307 - accuracy: 0.9492 - val_loss: 0.6768 - val_accuracy: 0.7769\n",
      "Epoch 4/5\n",
      "215/215 [==============================] - 9s 42ms/step - loss: 0.0977 - accuracy: 0.9636 - val_loss: 0.7630 - val_accuracy: 0.7782\n",
      "Epoch 5/5\n",
      "215/215 [==============================] - 9s 40ms/step - loss: 0.0806 - accuracy: 0.9693 - val_loss: 0.9425 - val_accuracy: 0.7690\n"
     ]
    }
   ],
   "source": [
    "# Fit the model\n",
    "model_2_history = model_2.fit(X_train,y_train,epochs=5,validation_data=(X_val,y_val),\n",
    "                              callbacks=[create_tensorboard_callback(dir_name=SAVE_DIR,experiment_name=\"model_2_LSTM\")])"
   ]
  },
  {
   "cell_type": "code",
   "execution_count": 46,
   "id": "427c47d6",
   "metadata": {},
   "outputs": [
    {
     "data": {
      "text/plain": [
       "array([[7.5414844e-02],\n",
       "       [8.1368840e-01],\n",
       "       [9.9984789e-01],\n",
       "       [2.7676988e-02],\n",
       "       [5.5212493e-04],\n",
       "       [9.9912757e-01],\n",
       "       [9.4829124e-01],\n",
       "       [9.9989641e-01],\n",
       "       [9.9980813e-01],\n",
       "       [5.9849602e-01]], dtype=float32)"
      ]
     },
     "execution_count": 46,
     "metadata": {},
     "output_type": "execute_result"
    }
   ],
   "source": [
    "# Make Predictions with LSTM model \n",
    "model_2_pred_probs= model_2.predict(X_val)\n",
    "model_2_pred_probs[:10]"
   ]
  },
  {
   "cell_type": "code",
   "execution_count": 47,
   "id": "1927dcab",
   "metadata": {},
   "outputs": [
    {
     "data": {
      "text/plain": [
       "<tf.Tensor: shape=(10,), dtype=float32, numpy=array([0., 1., 1., 0., 0., 1., 1., 1., 1., 1.], dtype=float32)>"
      ]
     },
     "execution_count": 47,
     "metadata": {},
     "output_type": "execute_result"
    }
   ],
   "source": [
    "# Convert model_2 preds to labels\n",
    "model_2_pred_probs= tf.squeeze(tf.round(model_2_pred_probs))\n",
    "model_2_pred_probs[:10]"
   ]
  },
  {
   "cell_type": "code",
   "execution_count": 48,
   "id": "46ea7bc5",
   "metadata": {},
   "outputs": [
    {
     "data": {
      "text/plain": [
       "{'accuracy': 76.9028871391076,\n",
       " 'precision': 0.7697342660172047,\n",
       " 'recall': 0.7690288713910761,\n",
       " 'f1': 0.7674269881907728}"
      ]
     },
     "execution_count": 48,
     "metadata": {},
     "output_type": "execute_result"
    }
   ],
   "source": [
    "model_2_results=calculate_results(y_val,model_2_pred_probs)\n",
    "model_2_results"
   ]
  },
  {
   "cell_type": "markdown",
   "id": "70b831d8",
   "metadata": {},
   "source": [
    "## Model 3 : GRU "
   ]
  },
  {
   "cell_type": "code",
   "execution_count": 49,
   "id": "3ea573b8",
   "metadata": {},
   "outputs": [],
   "source": [
    "# Build a RNN using tensorflow\n",
    "from tensorflow.keras import layers\n",
    "inputs = layers.Input(shape=(1,),dtype=\"string\")\n",
    "x = text_vectorizer(inputs)\n",
    "x = embedding(x)\n",
    "x = layers.GRU(64)(x)\n",
    "ouputs = layers.Dense(1,activation=\"sigmoid\")(x)\n",
    "model_3 = tf.keras.Model(inputs,ouputs,name=\"model_3_GRU\")"
   ]
  },
  {
   "cell_type": "code",
   "execution_count": 50,
   "id": "8d78e5a6",
   "metadata": {},
   "outputs": [
    {
     "name": "stdout",
     "output_type": "stream",
     "text": [
      "Model: \"model_3_GRU\"\n",
      "_________________________________________________________________\n",
      "Layer (type)                 Output Shape              Param #   \n",
      "=================================================================\n",
      "input_3 (InputLayer)         [(None, 1)]               0         \n",
      "_________________________________________________________________\n",
      "text_vectorization_1 (TextVe (None, 15)                0         \n",
      "_________________________________________________________________\n",
      "embedding (Embedding)        (None, 15, 128)           1280000   \n",
      "_________________________________________________________________\n",
      "gru (GRU)                    (None, 64)                37248     \n",
      "_________________________________________________________________\n",
      "dense_2 (Dense)              (None, 1)                 65        \n",
      "=================================================================\n",
      "Total params: 1,317,313\n",
      "Trainable params: 1,317,313\n",
      "Non-trainable params: 0\n",
      "_________________________________________________________________\n"
     ]
    }
   ],
   "source": [
    "model_3.summary()"
   ]
  },
  {
   "cell_type": "code",
   "execution_count": 51,
   "id": "9fb3d2bb",
   "metadata": {},
   "outputs": [],
   "source": [
    "# Compile the model\n",
    "model_3.compile(loss=\"binary_crossentropy\",optimizer=tf.keras.optimizers.Adam(),metrics=[\"accuracy\"])"
   ]
  },
  {
   "cell_type": "code",
   "execution_count": 52,
   "id": "79d9048b",
   "metadata": {},
   "outputs": [
    {
     "name": "stdout",
     "output_type": "stream",
     "text": [
      "Saving TensorBoard log files to: model_logs/model_3_GRU/20210522-130144\n",
      "Epoch 1/5\n",
      "215/215 [==============================] - 16s 62ms/step - loss: 0.2678 - accuracy: 0.8793 - val_loss: 0.8338 - val_accuracy: 0.7822\n",
      "Epoch 2/5\n",
      "215/215 [==============================] - 8s 37ms/step - loss: 0.0692 - accuracy: 0.9745 - val_loss: 0.9042 - val_accuracy: 0.7756\n",
      "Epoch 3/5\n",
      "215/215 [==============================] - 8s 37ms/step - loss: 0.0666 - accuracy: 0.9738 - val_loss: 0.9612 - val_accuracy: 0.7703\n",
      "Epoch 4/5\n",
      "215/215 [==============================] - 8s 37ms/step - loss: 0.0619 - accuracy: 0.9769 - val_loss: 1.0674 - val_accuracy: 0.7743\n",
      "Epoch 5/5\n",
      "215/215 [==============================] - 8s 39ms/step - loss: 0.0459 - accuracy: 0.9802 - val_loss: 1.3069 - val_accuracy: 0.7756\n"
     ]
    }
   ],
   "source": [
    "#Fit the model\n",
    "model_3_history = model_3.fit(X_train,y_train,epochs=5,validation_data=(X_val,y_val),\n",
    "                              callbacks=[create_tensorboard_callback(dir_name=SAVE_DIR,experiment_name=\"model_3_GRU\")])"
   ]
  },
  {
   "cell_type": "code",
   "execution_count": 53,
   "id": "331be423",
   "metadata": {
    "scrolled": true
   },
   "outputs": [
    {
     "data": {
      "text/plain": [
       "array([[4.9914117e-04],\n",
       "       [6.5996635e-01],\n",
       "       [9.9992347e-01],\n",
       "       [6.2968150e-02],\n",
       "       [1.1507374e-04],\n",
       "       [9.9988186e-01],\n",
       "       [9.3765157e-01],\n",
       "       [9.9996543e-01],\n",
       "       [9.9993646e-01],\n",
       "       [9.9595547e-01]], dtype=float32)"
      ]
     },
     "execution_count": 53,
     "metadata": {},
     "output_type": "execute_result"
    }
   ],
   "source": [
    "# Make Predictions with GRU model \n",
    "model_3_pred_probs= model_3.predict(X_val)\n",
    "model_3_pred_probs[:10]"
   ]
  },
  {
   "cell_type": "code",
   "execution_count": 54,
   "id": "ebfb280c",
   "metadata": {},
   "outputs": [
    {
     "data": {
      "text/plain": [
       "<tf.Tensor: shape=(10,), dtype=float32, numpy=array([0., 1., 1., 0., 0., 1., 1., 1., 1., 1.], dtype=float32)>"
      ]
     },
     "execution_count": 54,
     "metadata": {},
     "output_type": "execute_result"
    }
   ],
   "source": [
    "# Convert model_3 preds to labels\n",
    "model_3_pred_probs= tf.squeeze(tf.round(model_3_pred_probs))\n",
    "model_3_pred_probs[:10]"
   ]
  },
  {
   "cell_type": "code",
   "execution_count": 55,
   "id": "c611fc6c",
   "metadata": {},
   "outputs": [
    {
     "data": {
      "text/plain": [
       "{'accuracy': 77.55905511811024,\n",
       " 'precision': 0.7794121823201254,\n",
       " 'recall': 0.7755905511811023,\n",
       " 'f1': 0.7726614113025507}"
      ]
     },
     "execution_count": 55,
     "metadata": {},
     "output_type": "execute_result"
    }
   ],
   "source": [
    "model_3_results=calculate_results(y_val,model_3_pred_probs)\n",
    "model_3_results"
   ]
  },
  {
   "cell_type": "markdown",
   "id": "a4535729",
   "metadata": {},
   "source": [
    "## Model 4 - Bidirectional RNN"
   ]
  },
  {
   "cell_type": "code",
   "execution_count": 56,
   "id": "a2664bce",
   "metadata": {},
   "outputs": [],
   "source": [
    "# Build a bidirectional RNN model\n",
    "from tensorflow.keras import layers\n",
    "inputs = layers.Input(shape=(1,),dtype=\"string\")\n",
    "x = text_vectorizer(inputs)\n",
    "x = embedding(x)\n",
    "x = layers.Bidirectional(layers.LSTM(64))(x)\n",
    "ouputs = layers.Dense(1,activation=\"sigmoid\")(x)\n",
    "model_4 = tf.keras.Model(inputs,ouputs,name=\"model_4_bidirectional\")"
   ]
  },
  {
   "cell_type": "code",
   "execution_count": 57,
   "id": "c637f39f",
   "metadata": {},
   "outputs": [
    {
     "name": "stdout",
     "output_type": "stream",
     "text": [
      "Model: \"model_4_bidirectional\"\n",
      "_________________________________________________________________\n",
      "Layer (type)                 Output Shape              Param #   \n",
      "=================================================================\n",
      "input_4 (InputLayer)         [(None, 1)]               0         \n",
      "_________________________________________________________________\n",
      "text_vectorization_1 (TextVe (None, 15)                0         \n",
      "_________________________________________________________________\n",
      "embedding (Embedding)        (None, 15, 128)           1280000   \n",
      "_________________________________________________________________\n",
      "bidirectional (Bidirectional (None, 128)               98816     \n",
      "_________________________________________________________________\n",
      "dense_3 (Dense)              (None, 1)                 129       \n",
      "=================================================================\n",
      "Total params: 1,378,945\n",
      "Trainable params: 1,378,945\n",
      "Non-trainable params: 0\n",
      "_________________________________________________________________\n"
     ]
    }
   ],
   "source": [
    "model_4.summary()"
   ]
  },
  {
   "cell_type": "code",
   "execution_count": 58,
   "id": "3a9c3495",
   "metadata": {},
   "outputs": [],
   "source": [
    "# Compile the model\n",
    "model_4.compile(loss=\"binary_crossentropy\",optimizer=tf.keras.optimizers.Adam(),metrics=[\"accuracy\"])"
   ]
  },
  {
   "cell_type": "code",
   "execution_count": 59,
   "id": "b37c1110",
   "metadata": {},
   "outputs": [
    {
     "name": "stdout",
     "output_type": "stream",
     "text": [
      "Saving TensorBoard log files to: model_logs/model_4_bidirec/20210522-130237\n",
      "Epoch 1/5\n",
      "215/215 [==============================] - 21s 77ms/step - loss: 0.1934 - accuracy: 0.9333 - val_loss: 0.8786 - val_accuracy: 0.7782\n",
      "Epoch 2/5\n",
      "215/215 [==============================] - 10s 45ms/step - loss: 0.0494 - accuracy: 0.9784 - val_loss: 1.1515 - val_accuracy: 0.7822\n",
      "Epoch 3/5\n",
      "215/215 [==============================] - 9s 44ms/step - loss: 0.0419 - accuracy: 0.9819 - val_loss: 1.4662 - val_accuracy: 0.7717\n",
      "Epoch 4/5\n",
      "215/215 [==============================] - 10s 46ms/step - loss: 0.0367 - accuracy: 0.9819 - val_loss: 1.5309 - val_accuracy: 0.7664\n",
      "Epoch 5/5\n",
      "215/215 [==============================] - 9s 44ms/step - loss: 0.0357 - accuracy: 0.9824 - val_loss: 1.4224 - val_accuracy: 0.7795\n"
     ]
    }
   ],
   "source": [
    "#Fit the model\n",
    "model_4_history = model_4.fit(X_train,y_train,epochs=5,validation_data=(X_val,y_val),\n",
    "                              callbacks=[create_tensorboard_callback(dir_name=SAVE_DIR,experiment_name=\"model_4_bidirec\")])"
   ]
  },
  {
   "cell_type": "code",
   "execution_count": 60,
   "id": "d94d00d7",
   "metadata": {},
   "outputs": [
    {
     "data": {
      "text/plain": [
       "array([[6.3573234e-03],\n",
       "       [6.5471900e-01],\n",
       "       [9.9996793e-01],\n",
       "       [2.6473811e-01],\n",
       "       [2.3227249e-05],\n",
       "       [9.9973935e-01],\n",
       "       [9.8971444e-01],\n",
       "       [9.9998987e-01],\n",
       "       [9.9996161e-01],\n",
       "       [9.5486802e-01]], dtype=float32)"
      ]
     },
     "execution_count": 60,
     "metadata": {},
     "output_type": "execute_result"
    }
   ],
   "source": [
    "# Make Predictions with Bidirectional model \n",
    "model_4_pred_probs= model_4.predict(X_val)\n",
    "model_4_pred_probs[:10]"
   ]
  },
  {
   "cell_type": "code",
   "execution_count": 61,
   "id": "bebb6116",
   "metadata": {},
   "outputs": [
    {
     "data": {
      "text/plain": [
       "<tf.Tensor: shape=(10,), dtype=float32, numpy=array([0., 1., 1., 0., 0., 1., 1., 1., 1., 1.], dtype=float32)>"
      ]
     },
     "execution_count": 61,
     "metadata": {},
     "output_type": "execute_result"
    }
   ],
   "source": [
    "# Convert model_4 preds to labels\n",
    "model_4_pred_probs= tf.squeeze(tf.round(model_4_pred_probs))\n",
    "model_4_pred_probs[:10]"
   ]
  },
  {
   "cell_type": "code",
   "execution_count": 62,
   "id": "84805ce3",
   "metadata": {},
   "outputs": [
    {
     "data": {
      "text/plain": [
       "{'accuracy': 77.95275590551181,\n",
       " 'precision': 0.7822644211580037,\n",
       " 'recall': 0.7795275590551181,\n",
       " 'f1': 0.7771404562571971}"
      ]
     },
     "execution_count": 62,
     "metadata": {},
     "output_type": "execute_result"
    }
   ],
   "source": [
    "model_4_results=calculate_results(y_val,model_4_pred_probs)\n",
    "model_4_results"
   ]
  },
  {
   "cell_type": "markdown",
   "id": "42f781bb",
   "metadata": {},
   "source": [
    "## Model 5 - Conv1D"
   ]
  },
  {
   "cell_type": "code",
   "execution_count": 63,
   "id": "09252307",
   "metadata": {},
   "outputs": [
    {
     "data": {
      "text/plain": [
       "(TensorShape([1, 15, 128]), TensorShape([1, 11, 32]), TensorShape([1, 32]))"
      ]
     },
     "execution_count": 63,
     "metadata": {},
     "output_type": "execute_result"
    }
   ],
   "source": [
    "# Testing embedding layer, Conv1D and max pooling\n",
    "from tensorflow.keras import layers\n",
    "embedding_test = embedding(text_vectorizer([\"This is a sentence\"]))\n",
    "conv_1d = layers.Conv1D(filters=32,kernel_size=5,activation=\"relu\",padding=\"valid\")\n",
    "conv_1d_output = conv_1d(embedding_test)\n",
    "max_pool = layers.GlobalMaxPool1D()\n",
    "max_pool_output = max_pool(conv_1d_output)\n",
    "embedding_test.shape,conv_1d_output.shape,max_pool_output.shape"
   ]
  },
  {
   "cell_type": "code",
   "execution_count": 64,
   "id": "d766a7ed",
   "metadata": {},
   "outputs": [],
   "source": [
    "# Create 1-d convolutional layer to model sequence\n",
    "from tensorflow.keras import layers\n",
    "inputs = layers.Input(shape=(1,),dtype=tf.string)\n",
    "x = text_vectorizer(inputs)\n",
    "x = embedding(x)\n",
    "x = layers.Conv1D(filters=64,kernel_size=5,strides=1,activation=\"relu\",padding=\"valid\")(x)\n",
    "x = layers.GlobalMaxPool1D()(x)\n",
    "ouputs = layers.Dense(1,activation=\"sigmoid\")(x)\n",
    "model_5 = tf.keras.Model(inputs,ouputs,name=\"model_5_Conv1D\")"
   ]
  },
  {
   "cell_type": "code",
   "execution_count": 65,
   "id": "15166a3e",
   "metadata": {},
   "outputs": [
    {
     "name": "stdout",
     "output_type": "stream",
     "text": [
      "Model: \"model_5_Conv1D\"\n",
      "_________________________________________________________________\n",
      "Layer (type)                 Output Shape              Param #   \n",
      "=================================================================\n",
      "input_5 (InputLayer)         [(None, 1)]               0         \n",
      "_________________________________________________________________\n",
      "text_vectorization_1 (TextVe (None, 15)                0         \n",
      "_________________________________________________________________\n",
      "embedding (Embedding)        (None, 15, 128)           1280000   \n",
      "_________________________________________________________________\n",
      "conv1d_1 (Conv1D)            (None, 11, 64)            41024     \n",
      "_________________________________________________________________\n",
      "global_max_pooling1d_1 (Glob (None, 64)                0         \n",
      "_________________________________________________________________\n",
      "dense_4 (Dense)              (None, 1)                 65        \n",
      "=================================================================\n",
      "Total params: 1,321,089\n",
      "Trainable params: 1,321,089\n",
      "Non-trainable params: 0\n",
      "_________________________________________________________________\n"
     ]
    }
   ],
   "source": [
    "model_5.summary()"
   ]
  },
  {
   "cell_type": "code",
   "execution_count": 66,
   "id": "39ea5112",
   "metadata": {},
   "outputs": [],
   "source": [
    "# Compile the modeldd\n",
    "model_5.compile(loss=\"binary_crossentropy\",optimizer=tf.keras.optimizers.Adam(),metrics=[\"accuracy\"])"
   ]
  },
  {
   "cell_type": "code",
   "execution_count": 67,
   "id": "13e6a3d9",
   "metadata": {},
   "outputs": [
    {
     "name": "stdout",
     "output_type": "stream",
     "text": [
      "Saving TensorBoard log files to: model_logs/model_5_Conv1D/20210522-130343\n",
      "Epoch 1/5\n",
      "215/215 [==============================] - 12s 53ms/step - loss: 0.1850 - accuracy: 0.9412 - val_loss: 0.9947 - val_accuracy: 0.7651\n",
      "Epoch 2/5\n",
      "215/215 [==============================] - 7s 34ms/step - loss: 0.0748 - accuracy: 0.9745 - val_loss: 1.0991 - val_accuracy: 0.7612\n",
      "Epoch 3/5\n",
      "215/215 [==============================] - 7s 34ms/step - loss: 0.0551 - accuracy: 0.9771 - val_loss: 1.1731 - val_accuracy: 0.7585\n",
      "Epoch 4/5\n",
      "215/215 [==============================] - 7s 34ms/step - loss: 0.0502 - accuracy: 0.9798 - val_loss: 1.2054 - val_accuracy: 0.7559\n",
      "Epoch 5/5\n",
      "215/215 [==============================] - 7s 34ms/step - loss: 0.0456 - accuracy: 0.9806 - val_loss: 1.2632 - val_accuracy: 0.7572\n"
     ]
    }
   ],
   "source": [
    "#Fit the model\n",
    "model_5_history = model_5.fit(X_train,y_train,epochs=5,validation_data=(X_val,y_val),\n",
    "                              callbacks=[create_tensorboard_callback(dir_name=SAVE_DIR,experiment_name=\"model_5_Conv1D\")])"
   ]
  },
  {
   "cell_type": "code",
   "execution_count": 68,
   "id": "c0e143d5",
   "metadata": {},
   "outputs": [
    {
     "data": {
      "text/plain": [
       "array([[1.6577759e-01],\n",
       "       [9.7743750e-01],\n",
       "       [9.9993253e-01],\n",
       "       [6.6378511e-02],\n",
       "       [2.3925534e-07],\n",
       "       [9.9373794e-01],\n",
       "       [9.9479890e-01],\n",
       "       [9.9998844e-01],\n",
       "       [9.9999976e-01],\n",
       "       [9.0116113e-01]], dtype=float32)"
      ]
     },
     "execution_count": 68,
     "metadata": {},
     "output_type": "execute_result"
    }
   ],
   "source": [
    "# Make Predictions with Conv1D model \n",
    "model_5_pred_probs= model_5.predict(X_val)\n",
    "model_5_pred_probs[:10]"
   ]
  },
  {
   "cell_type": "code",
   "execution_count": 69,
   "id": "c47c6b2a",
   "metadata": {},
   "outputs": [
    {
     "data": {
      "text/plain": [
       "<tf.Tensor: shape=(10,), dtype=float32, numpy=array([0., 1., 1., 0., 0., 1., 1., 1., 1., 1.], dtype=float32)>"
      ]
     },
     "execution_count": 69,
     "metadata": {},
     "output_type": "execute_result"
    }
   ],
   "source": [
    "# Convert model_5 preds to labels\n",
    "model_5_pred_probs= tf.squeeze(tf.round(model_5_pred_probs))\n",
    "model_5_pred_probs[:10]"
   ]
  },
  {
   "cell_type": "code",
   "execution_count": 70,
   "id": "225cd011",
   "metadata": {},
   "outputs": [
    {
     "data": {
      "text/plain": [
       "{'accuracy': 75.7217847769029,\n",
       " 'precision': 0.7572094843193692,\n",
       " 'recall': 0.7572178477690289,\n",
       " 'f1': 0.7559398344614434}"
      ]
     },
     "execution_count": 70,
     "metadata": {},
     "output_type": "execute_result"
    }
   ],
   "source": [
    "model_5_results=calculate_results(y_val,model_5_pred_probs)\n",
    "model_5_results"
   ]
  },
  {
   "cell_type": "code",
   "execution_count": 71,
   "id": "05825365",
   "metadata": {},
   "outputs": [
    {
     "data": {
      "text/plain": [
       "{'accuracy': 79.26509186351706,\n",
       " 'precision': 0.8111390004213173,\n",
       " 'recall': 0.7926509186351706,\n",
       " 'f1': 0.7862189758049549}"
      ]
     },
     "execution_count": 71,
     "metadata": {},
     "output_type": "execute_result"
    }
   ],
   "source": [
    "baseline_results"
   ]
  },
  {
   "cell_type": "markdown",
   "id": "8cf2a1f0",
   "metadata": {},
   "source": [
    "## Model 6 : Tensorflow hub Pre Trained sentence encoder"
   ]
  },
  {
   "cell_type": "code",
   "execution_count": 72,
   "id": "7400b742",
   "metadata": {},
   "outputs": [],
   "source": [
    "import tensorflow_hub as hub\n",
    "#embed = hub.load(\"https://tfhub.dev/google/universal-sentence-encoder/4\")\n",
    "#embed_samples = embed([\"This is a sample tweet \"])"
   ]
  },
  {
   "cell_type": "code",
   "execution_count": 73,
   "id": "ca30fff7",
   "metadata": {},
   "outputs": [],
   "source": [
    "#embed_samples[0][:50]"
   ]
  },
  {
   "cell_type": "code",
   "execution_count": 74,
   "id": "6a99b160",
   "metadata": {},
   "outputs": [],
   "source": [
    "#embed_samples[0].shape"
   ]
  },
  {
   "cell_type": "code",
   "execution_count": 75,
   "id": "5005dcee",
   "metadata": {},
   "outputs": [],
   "source": [
    "#Create a Keras Layer using the pre trained layer from tensorflow hub\n",
    "sentence_encoder_layer = hub.KerasLayer(\"https://tfhub.dev/google/universal-sentence-encoder/4\",\n",
    "                                        input_shape=[],dtype=tf.string,trainable=False,name=\"USE\")"
   ]
  },
  {
   "cell_type": "code",
   "execution_count": 76,
   "id": "ab4a8538",
   "metadata": {},
   "outputs": [],
   "source": [
    "# Create Model using sequential API\n",
    "model_6 = tf.keras.Sequential([\n",
    "    sentence_encoder_layer,\n",
    "    layers.Dense(64,activation=\"relu\"),\n",
    "    layers.Dense(1,activation=\"sigmoid\")\n",
    "],name=\"model_6_USE\")"
   ]
  },
  {
   "cell_type": "code",
   "execution_count": 77,
   "id": "483cc22b",
   "metadata": {},
   "outputs": [],
   "source": [
    "# Compile the model\n",
    "model_6.compile(loss=\"binary_crossentropy\",optimizer=tf.keras.optimizers.Adam(),metrics=[\"accuracy\"])"
   ]
  },
  {
   "cell_type": "code",
   "execution_count": 78,
   "id": "4b141036",
   "metadata": {},
   "outputs": [
    {
     "name": "stdout",
     "output_type": "stream",
     "text": [
      "Model: \"model_6_USE\"\n",
      "_________________________________________________________________\n",
      "Layer (type)                 Output Shape              Param #   \n",
      "=================================================================\n",
      "USE (KerasLayer)             (None, 512)               256797824 \n",
      "_________________________________________________________________\n",
      "dense_5 (Dense)              (None, 64)                32832     \n",
      "_________________________________________________________________\n",
      "dense_6 (Dense)              (None, 1)                 65        \n",
      "=================================================================\n",
      "Total params: 256,830,721\n",
      "Trainable params: 32,897\n",
      "Non-trainable params: 256,797,824\n",
      "_________________________________________________________________\n"
     ]
    }
   ],
   "source": [
    "model_6.summary()"
   ]
  },
  {
   "cell_type": "code",
   "execution_count": 79,
   "id": "f0d96782",
   "metadata": {},
   "outputs": [
    {
     "name": "stdout",
     "output_type": "stream",
     "text": [
      "Saving TensorBoard log files to: model_logs/tf_hub_sentence_enc/20210522-130457\n",
      "Epoch 1/5\n",
      "215/215 [==============================] - 29s 116ms/step - loss: 0.5769 - accuracy: 0.7505 - val_loss: 0.4489 - val_accuracy: 0.8005\n",
      "Epoch 2/5\n",
      "215/215 [==============================] - 9s 41ms/step - loss: 0.4136 - accuracy: 0.8174 - val_loss: 0.4357 - val_accuracy: 0.8084\n",
      "Epoch 3/5\n",
      "215/215 [==============================] - 9s 41ms/step - loss: 0.4001 - accuracy: 0.8173 - val_loss: 0.4346 - val_accuracy: 0.8084\n",
      "Epoch 4/5\n",
      "215/215 [==============================] - 10s 45ms/step - loss: 0.3762 - accuracy: 0.8366 - val_loss: 0.4279 - val_accuracy: 0.8110\n",
      "Epoch 5/5\n",
      "215/215 [==============================] - 9s 41ms/step - loss: 0.3717 - accuracy: 0.8373 - val_loss: 0.4254 - val_accuracy: 0.8176\n"
     ]
    }
   ],
   "source": [
    "#Fit the model\n",
    "model_6_history = model_6.fit(X_train,y_train,epochs=5,validation_data=(X_val,y_val),\n",
    "                              callbacks=[create_tensorboard_callback(dir_name=SAVE_DIR,experiment_name=\"tf_hub_sentence_enc\")])"
   ]
  },
  {
   "cell_type": "code",
   "execution_count": 80,
   "id": "8920abd4",
   "metadata": {},
   "outputs": [
    {
     "data": {
      "text/plain": [
       "array([[0.1687635 ],\n",
       "       [0.7759173 ],\n",
       "       [0.9874978 ],\n",
       "       [0.22713077],\n",
       "       [0.71038115],\n",
       "       [0.7440115 ],\n",
       "       [0.98087585],\n",
       "       [0.97782284],\n",
       "       [0.9416915 ],\n",
       "       [0.09311038]], dtype=float32)"
      ]
     },
     "execution_count": 80,
     "metadata": {},
     "output_type": "execute_result"
    }
   ],
   "source": [
    "# Make Predictions\n",
    "model_6_pred_probs= model_6.predict(X_val)\n",
    "model_6_pred_probs[:10]"
   ]
  },
  {
   "cell_type": "code",
   "execution_count": 81,
   "id": "4302ba60",
   "metadata": {},
   "outputs": [
    {
     "data": {
      "text/plain": [
       "<tf.Tensor: shape=(10,), dtype=float32, numpy=array([0., 1., 1., 0., 1., 1., 1., 1., 1., 0.], dtype=float32)>"
      ]
     },
     "execution_count": 81,
     "metadata": {},
     "output_type": "execute_result"
    }
   ],
   "source": [
    "# Convert model_6 preds to labels\n",
    "model_6_pred_probs= tf.squeeze(tf.round(model_6_pred_probs))\n",
    "model_6_pred_probs[:10]"
   ]
  },
  {
   "cell_type": "code",
   "execution_count": 82,
   "id": "165a9411",
   "metadata": {},
   "outputs": [
    {
     "data": {
      "text/plain": [
       "{'accuracy': 81.75853018372703,\n",
       " 'precision': 0.8217449491045319,\n",
       " 'recall': 0.8175853018372703,\n",
       " 'f1': 0.8155543679852177}"
      ]
     },
     "execution_count": 82,
     "metadata": {},
     "output_type": "execute_result"
    }
   ],
   "source": [
    "model_6_results=calculate_results(y_val,model_6_pred_probs)\n",
    "model_6_results"
   ]
  },
  {
   "cell_type": "code",
   "execution_count": 83,
   "id": "4228a27b",
   "metadata": {},
   "outputs": [
    {
     "data": {
      "text/plain": [
       "{'accuracy': 79.26509186351706,\n",
       " 'precision': 0.8111390004213173,\n",
       " 'recall': 0.7926509186351706,\n",
       " 'f1': 0.7862189758049549}"
      ]
     },
     "execution_count": 83,
     "metadata": {},
     "output_type": "execute_result"
    }
   ],
   "source": [
    "baseline_results"
   ]
  },
  {
   "cell_type": "markdown",
   "id": "c0acc0a5",
   "metadata": {},
   "source": [
    "## Model 7 : Tensorflow pretrained USE but with 10% of the training data"
   ]
  },
  {
   "cell_type": "code",
   "execution_count": 127,
   "id": "275939a8",
   "metadata": {},
   "outputs": [
    {
     "data": {
      "text/plain": [
       "(                                                   text  target\n",
       " 4955  DFR EP016 Monthly Meltdown - On Dnbheaven 2015...       0\n",
       " 584   FedEx no longer to transport bioterror germs i...       0\n",
       " 7411  Gunmen kill four in El Salvador bus attack: Su...       1\n",
       " 5950  @camilacabello97 Internally and externally scr...       1\n",
       " 5541  Radiation emergency #preparedness starts with ...       1,\n",
       " 761)"
      ]
     },
     "execution_count": 127,
     "metadata": {},
     "output_type": "execute_result"
    }
   ],
   "source": [
    "# Create subset of 10% of the training data\n",
    "train_10_percent = train_df_shuffled[[\"text\",\"target\"]].sample(frac=0.1,random_state=42)\n",
    "train_10_percent.head(),len(train_10_percent)"
   ]
  },
  {
   "cell_type": "code",
   "execution_count": 128,
   "id": "8e2b7e39",
   "metadata": {},
   "outputs": [],
   "source": [
    "len_10_percent_split = int(0.1*len(X_train))\n",
    "train_sentences_10_percent= X_train[:len_10_percent_split]\n",
    "train_labels_10_percent = y_train[:len_10_percent_split]"
   ]
  },
  {
   "cell_type": "code",
   "execution_count": 130,
   "id": "55919a8b",
   "metadata": {},
   "outputs": [
    {
     "data": {
      "text/plain": [
       "(array(['@mogacola @zamtriossu i screamed after hitting tweet',\n",
       "        'Imagine getting flattened by Kurt Zouma',\n",
       "        '@Gurmeetramrahim #MSGDoing111WelfareWorks Green S welfare force ke appx 65000 members har time disaster victim ki help ke liye tyar hai....',\n",
       "        \"@shakjn @C7 @Magnums im shaking in fear he's gonna hack the planet\",\n",
       "        'Somehow find you and I collide http://t.co/Ee8RpOahPk',\n",
       "        '@EvaHanderek @MarleyKnysh great times until the bus driver held us hostage in the mall parking lot lmfao',\n",
       "        'destroy the free fandom honestly',\n",
       "        'Weapons stolen from National Guard Armory in New Albany still missing #Gunsense http://t.co/lKNU8902JE',\n",
       "        '@wfaaweather Pete when will the heat wave pass? Is it really going to be mid month? Frisco Boy Scouts have a canoe trip in Okla.',\n",
       "        'Patient-reported outcomes in long-term survivors of metastatic colorectal cancer - British Journal of Surgery http://t.co/5Yl4DC1Tqt'],\n",
       "       dtype=object),\n",
       " array([0, 0, 1, 0, 0, 1, 1, 0, 1, 1], dtype=int64),\n",
       " 685,\n",
       " 685)"
      ]
     },
     "execution_count": 130,
     "metadata": {},
     "output_type": "execute_result"
    }
   ],
   "source": [
    "train_sentences_10_percent[:10],train_labels_10_percent[:10],len(train_sentences_10_percent),len(train_labels_10_percent)"
   ]
  },
  {
   "cell_type": "code",
   "execution_count": 131,
   "id": "fdd5e094",
   "metadata": {},
   "outputs": [
    {
     "data": {
      "text/plain": [
       "0    413\n",
       "1    348\n",
       "Name: target, dtype: int64"
      ]
     },
     "execution_count": 131,
     "metadata": {},
     "output_type": "execute_result"
    }
   ],
   "source": [
    " train_10_percent[\"target\"].value_counts()"
   ]
  },
  {
   "cell_type": "code",
   "execution_count": 132,
   "id": "b8473879",
   "metadata": {},
   "outputs": [],
   "source": [
    "# Create Model using sequential API for 10 percent data\n",
    "model_7 = tf.keras.Sequential([\n",
    "    sentence_encoder_layer,\n",
    "    layers.Dense(64,activation=\"relu\"),\n",
    "    layers.Dense(1,activation=\"sigmoid\")\n",
    "],name=\"model_7_USE_10_percent\")"
   ]
  },
  {
   "cell_type": "code",
   "execution_count": 133,
   "id": "df418620",
   "metadata": {},
   "outputs": [],
   "source": [
    "# Compile the model\n",
    "model_7.compile(loss=\"binary_crossentropy\",optimizer=tf.keras.optimizers.Adam(),metrics=[\"accuracy\"])"
   ]
  },
  {
   "cell_type": "code",
   "execution_count": 134,
   "id": "862d3472",
   "metadata": {},
   "outputs": [
    {
     "name": "stdout",
     "output_type": "stream",
     "text": [
      "Model: \"model_7_USE_10_percent\"\n",
      "_________________________________________________________________\n",
      "Layer (type)                 Output Shape              Param #   \n",
      "=================================================================\n",
      "USE (KerasLayer)             (None, 512)               256797824 \n",
      "_________________________________________________________________\n",
      "dense_11 (Dense)             (None, 64)                32832     \n",
      "_________________________________________________________________\n",
      "dense_12 (Dense)             (None, 1)                 65        \n",
      "=================================================================\n",
      "Total params: 256,830,721\n",
      "Trainable params: 32,897\n",
      "Non-trainable params: 256,797,824\n",
      "_________________________________________________________________\n"
     ]
    }
   ],
   "source": [
    "model_7.summary()"
   ]
  },
  {
   "cell_type": "code",
   "execution_count": 135,
   "id": "c387614c",
   "metadata": {},
   "outputs": [
    {
     "name": "stdout",
     "output_type": "stream",
     "text": [
      "Saving TensorBoard log files to: model_logs/tf_hub_sentence_enc_10_percent/20210522-141639\n",
      "Epoch 1/5\n",
      "22/22 [==============================] - 14s 617ms/step - loss: 0.6779 - accuracy: 0.6910 - val_loss: 0.6447 - val_accuracy: 0.7520\n",
      "Epoch 2/5\n",
      "22/22 [==============================] - 2s 76ms/step - loss: 0.6190 - accuracy: 0.7705 - val_loss: 0.5881 - val_accuracy: 0.7625\n",
      "Epoch 3/5\n",
      "22/22 [==============================] - 2s 76ms/step - loss: 0.5312 - accuracy: 0.8273 - val_loss: 0.5316 - val_accuracy: 0.7717\n",
      "Epoch 4/5\n",
      "22/22 [==============================] - 2s 77ms/step - loss: 0.4608 - accuracy: 0.8246 - val_loss: 0.5016 - val_accuracy: 0.7664\n",
      "Epoch 5/5\n",
      "22/22 [==============================] - 2s 79ms/step - loss: 0.4215 - accuracy: 0.8323 - val_loss: 0.4900 - val_accuracy: 0.7730\n"
     ]
    }
   ],
   "source": [
    "#Fit the model\n",
    "model_7_history = model_7.fit(train_sentences_10_percent,train_labels_10_percent,epochs=5,validation_data=(X_val,y_val),\n",
    "                              callbacks=[create_tensorboard_callback(dir_name=SAVE_DIR,\n",
    "                                                                     experiment_name=\"tf_hub_sentence_enc_10_percent\")])"
   ]
  },
  {
   "cell_type": "code",
   "execution_count": 136,
   "id": "f2304e6e",
   "metadata": {},
   "outputs": [
    {
     "data": {
      "text/plain": [
       "array([[0.17920712],\n",
       "       [0.6107348 ],\n",
       "       [0.9126516 ],\n",
       "       [0.37477422],\n",
       "       [0.48259476],\n",
       "       [0.67939913],\n",
       "       [0.87831867],\n",
       "       [0.8119054 ],\n",
       "       [0.86299425],\n",
       "       [0.1766876 ]], dtype=float32)"
      ]
     },
     "execution_count": 136,
     "metadata": {},
     "output_type": "execute_result"
    }
   ],
   "source": [
    "# Make Predictions\n",
    "model_7_pred_probs= model_7.predict(X_val)\n",
    "model_7_pred_probs[:10]"
   ]
  },
  {
   "cell_type": "code",
   "execution_count": 137,
   "id": "6d806fab",
   "metadata": {},
   "outputs": [
    {
     "data": {
      "text/plain": [
       "<tf.Tensor: shape=(10,), dtype=float32, numpy=array([0., 1., 1., 0., 0., 1., 1., 1., 1., 0.], dtype=float32)>"
      ]
     },
     "execution_count": 137,
     "metadata": {},
     "output_type": "execute_result"
    }
   ],
   "source": [
    "# Convert model_7 preds to labels\n",
    "model_7_pred_probs= tf.squeeze(tf.round(model_7_pred_probs))\n",
    "model_7_pred_probs[:10]"
   ]
  },
  {
   "cell_type": "code",
   "execution_count": 138,
   "id": "29889613",
   "metadata": {},
   "outputs": [
    {
     "data": {
      "text/plain": [
       "{'accuracy': 77.29658792650919,\n",
       " 'precision': 0.7740517401498704,\n",
       " 'recall': 0.7729658792650919,\n",
       " 'f1': 0.7712160418848196}"
      ]
     },
     "execution_count": 138,
     "metadata": {},
     "output_type": "execute_result"
    }
   ],
   "source": [
    "model_7_results=calculate_results(y_val,model_7_pred_probs)\n",
    "model_7_results"
   ]
  },
  {
   "cell_type": "markdown",
   "id": "c78a4362",
   "metadata": {},
   "source": [
    "## Comparing the performance of each of our models"
   ]
  },
  {
   "cell_type": "code",
   "execution_count": 143,
   "id": "d811efd7",
   "metadata": {},
   "outputs": [],
   "source": [
    "#Combine model results into a data frame\n",
    "all_model_results= pd.DataFrame({\"0_baseline\":baseline_results,\n",
    "                                 \"1_simple_dense\":model_1_results,\n",
    "                                 \"2_lstm\":model_2_results,\n",
    "                                 \"3_gru\":model_3_results,\n",
    "                                 \"4_bidirectional\":model_4_results,\n",
    "                                 \"5_conv1d\":model_5_results,\n",
    "                                 \"6_tf_hub_use_encoder\":model_6_results,\n",
    "                                 \"7_tf_hub_use_encoder_10_percent\":model_7_results\n",
    "                                })\n",
    "all_model_results=all_model_results.transpose()"
   ]
  },
  {
   "cell_type": "code",
   "execution_count": 144,
   "id": "89664967",
   "metadata": {},
   "outputs": [
    {
     "data": {
      "text/html": [
       "<div>\n",
       "<style scoped>\n",
       "    .dataframe tbody tr th:only-of-type {\n",
       "        vertical-align: middle;\n",
       "    }\n",
       "\n",
       "    .dataframe tbody tr th {\n",
       "        vertical-align: top;\n",
       "    }\n",
       "\n",
       "    .dataframe thead th {\n",
       "        text-align: right;\n",
       "    }\n",
       "</style>\n",
       "<table border=\"1\" class=\"dataframe\">\n",
       "  <thead>\n",
       "    <tr style=\"text-align: right;\">\n",
       "      <th></th>\n",
       "      <th>accuracy</th>\n",
       "      <th>precision</th>\n",
       "      <th>recall</th>\n",
       "      <th>f1</th>\n",
       "    </tr>\n",
       "  </thead>\n",
       "  <tbody>\n",
       "    <tr>\n",
       "      <th>0_baseline</th>\n",
       "      <td>0.792651</td>\n",
       "      <td>0.811139</td>\n",
       "      <td>0.792651</td>\n",
       "      <td>0.786219</td>\n",
       "    </tr>\n",
       "    <tr>\n",
       "      <th>1_simple_dense</th>\n",
       "      <td>0.787402</td>\n",
       "      <td>0.793230</td>\n",
       "      <td>0.787402</td>\n",
       "      <td>0.784113</td>\n",
       "    </tr>\n",
       "    <tr>\n",
       "      <th>2_lstm</th>\n",
       "      <td>0.769029</td>\n",
       "      <td>0.769734</td>\n",
       "      <td>0.769029</td>\n",
       "      <td>0.767427</td>\n",
       "    </tr>\n",
       "    <tr>\n",
       "      <th>3_gru</th>\n",
       "      <td>0.775591</td>\n",
       "      <td>0.779412</td>\n",
       "      <td>0.775591</td>\n",
       "      <td>0.772661</td>\n",
       "    </tr>\n",
       "    <tr>\n",
       "      <th>4_bidirectional</th>\n",
       "      <td>0.779528</td>\n",
       "      <td>0.782264</td>\n",
       "      <td>0.779528</td>\n",
       "      <td>0.777140</td>\n",
       "    </tr>\n",
       "    <tr>\n",
       "      <th>5_conv1d</th>\n",
       "      <td>0.757218</td>\n",
       "      <td>0.757209</td>\n",
       "      <td>0.757218</td>\n",
       "      <td>0.755940</td>\n",
       "    </tr>\n",
       "    <tr>\n",
       "      <th>6_tf_hub_use_encoder</th>\n",
       "      <td>0.817585</td>\n",
       "      <td>0.821745</td>\n",
       "      <td>0.817585</td>\n",
       "      <td>0.815554</td>\n",
       "    </tr>\n",
       "    <tr>\n",
       "      <th>7_tf_hub_use_encoder_10_percent</th>\n",
       "      <td>0.772966</td>\n",
       "      <td>0.774052</td>\n",
       "      <td>0.772966</td>\n",
       "      <td>0.771216</td>\n",
       "    </tr>\n",
       "  </tbody>\n",
       "</table>\n",
       "</div>"
      ],
      "text/plain": [
       "                                 accuracy  precision    recall        f1\n",
       "0_baseline                       0.792651   0.811139  0.792651  0.786219\n",
       "1_simple_dense                   0.787402   0.793230  0.787402  0.784113\n",
       "2_lstm                           0.769029   0.769734  0.769029  0.767427\n",
       "3_gru                            0.775591   0.779412  0.775591  0.772661\n",
       "4_bidirectional                  0.779528   0.782264  0.779528  0.777140\n",
       "5_conv1d                         0.757218   0.757209  0.757218  0.755940\n",
       "6_tf_hub_use_encoder             0.817585   0.821745  0.817585  0.815554\n",
       "7_tf_hub_use_encoder_10_percent  0.772966   0.774052  0.772966  0.771216"
      ]
     },
     "execution_count": 144,
     "metadata": {},
     "output_type": "execute_result"
    }
   ],
   "source": [
    "all_model_results[\"accuracy\"]=all_model_results[\"accuracy\"]/100\n",
    "all_model_results"
   ]
  },
  {
   "cell_type": "code",
   "execution_count": 148,
   "id": "d4e604f4",
   "metadata": {},
   "outputs": [
    {
     "data": {
      "image/png": "[encoded data removed]",
      "text/plain": [
       "<Figure size 720x504 with 1 Axes>"
      ]
     },
     "metadata": {
      "needs_background": "light"
     },
     "output_type": "display_data"
    }
   ],
   "source": [
    "# Plot and compare all of the model results\n",
    "all_model_results.plot(kind=\"bar\",figsize=(10,7)).legend(bbox_to_anchor=(1.0,1.0));"
   ]
  },
  {
   "cell_type": "code",
   "execution_count": 149,
   "id": "affc3e15",
   "metadata": {},
   "outputs": [
    {
     "data": {
      "text/plain": [
       "<AxesSubplot:>"
      ]
     },
     "execution_count": 149,
     "metadata": {},
     "output_type": "execute_result"
    },
    {
     "data": {
      "image/png": "[encoded data removed]",
      "text/plain": [
       "<Figure size 720x504 with 1 Axes>"
      ]
     },
     "metadata": {
      "needs_background": "light"
     },
     "output_type": "display_data"
    }
   ],
   "source": [
    "# Sort the model results by f1 score\n",
    "all_model_results.sort_values(\"f1\",ascending=False)[\"f1\"].plot(kind=\"bar\",figsize=(10,7))"
   ]
  },
  {
   "cell_type": "markdown",
   "id": "906061ac",
   "metadata": {},
   "source": [
    "## Saving and loading a trained model"
   ]
  },
  {
   "cell_type": "code",
   "execution_count": 151,
   "id": "0004388b",
   "metadata": {},
   "outputs": [],
   "source": [
    "# Save TF Hub Sentence Encoder model to HDF5 format\n",
    "model_6.save(\"model_6.h5\")"
   ]
  },
  {
   "cell_type": "code",
   "execution_count": null,
   "id": "bb8c6038",
   "metadata": {},
   "outputs": [],
   "source": [
    "# Load model with custom Hub Layer (required with HDF5 format)\n",
    "loaded_model_6 = tf.keras.models.load_model(\"model_6.h5\", \n",
    "                                            custom_objects={\"KerasLayer\": hub.KerasLayer})"
   ]
  },
  {
   "cell_type": "markdown",
   "id": "bf14d549",
   "metadata": {},
   "source": [
    "## Making predictions on the test dataset"
   ]
  },
  {
   "cell_type": "code",
   "execution_count": 153,
   "id": "ab72b895",
   "metadata": {},
   "outputs": [
    {
     "name": "stdout",
     "output_type": "stream",
     "text": [
      "Pred: 1, Prob: 0.9303227663040161\n",
      "Text:\n",
      "Mourning notices for stabbing arson victims stir Û÷politics of griefÛª in Israel: Posters for Shira Banki and A... http://t.co/WbCtkGGTY9\n",
      "\n",
      "----\n",
      "\n",
      "Pred: 0, Prob: 0.07318724691867828\n",
      "Text:\n",
      "New Ladies Shoulder Tote Handbag Faux Leather Hobo Purse Cross Body Bag Womens - Full readÛ_ http://t.co/Rpn6pXLPiB http://t.co/l6aYlVVDZ0\n",
      "\n",
      "----\n",
      "\n",
      "Pred: 0, Prob: 0.0738363265991211\n",
      "Text:\n",
      "stay with me - sam.smith\n",
      "\n",
      "----\n",
      "\n",
      "Pred: 0, Prob: 0.17569909989833832\n",
      "Text:\n",
      "/criess blood/ Golden Wook is life. http://t.co/Fhb99ciCeT\n",
      "\n",
      "----\n",
      "\n",
      "Pred: 0, Prob: 0.2841106653213501\n",
      "Text:\n",
      "That @PPact hasn't already collapsed is a testament to @TheDemocrats lockstep devotion to politics over reality.\n",
      "\n",
      "----\n",
      "\n",
      "Pred: 0, Prob: 0.04624858498573303\n",
      "Text:\n",
      "@RobynJilllian @WlSDOMTEETHS I feel like I'm going to do it on accident. Teesha is gonna come out??\n",
      "\n",
      "----\n",
      "\n",
      "Pred: 0, Prob: 0.1925230324268341\n",
      "Text:\n",
      "#7294 Nikon D50 6.1 MP Digital SLR Camera Body 2 batteries carry bag and charger http://t.co/SL7PHqSGKV\n",
      "\n",
      "$200.00\n",
      "Û_ http://t.co/T4Qh2OM8Op\n",
      "\n",
      "----\n",
      "\n",
      "Pred: 0, Prob: 0.4442712068557739\n",
      "Text:\n",
      "Gutted. 6 weeks to go. Suspected fracture to my left ankle. Trauma clinic to see Specialist tomorrow #gnr @sageuk http://t.co/wa3sIUtoI0\n",
      "\n",
      "----\n",
      "\n",
      "Pred: 1, Prob: 0.8934234976768494\n",
      "Text:\n",
      "VIDEO: Link to the billowing fire after the SouthTowne Lanes roof collapsed: http://t.co/YrRHqZLKoR http://t.co/dXk4sUXMKV\n",
      "\n",
      "----\n",
      "\n",
      "Pred: 1, Prob: 0.9836317300796509\n",
      "Text:\n",
      "Suicide bomber kills 15 in Saudi security site mosque - Reuters http://t.co/KCObrZBVDs http://t.co/y62HSFVIAQ\n",
      "\n",
      "----\n",
      "\n"
     ]
    }
   ],
   "source": [
    "# Making predictions on the test dataset\n",
    "test_sentences = test_df[\"text\"].to_list()\n",
    "test_samples = random.sample(test_sentences, 10)\n",
    "for test_sample in test_samples:\n",
    "    pred_prob = tf.squeeze(model_6.predict([test_sample])) # has to be list\n",
    "    pred = tf.round(pred_prob)\n",
    "    print(f\"Pred: {int(pred)}, Prob: {pred_prob}\")\n",
    "    print(f\"Text:\\n{test_sample}\\n\")\n",
    "    print(\"----\\n\")"
   ]
  },
  {
   "cell_type": "markdown",
   "id": "957b5b04",
   "metadata": {},
   "source": [
    "## Predicting on Tweets from the wild"
   ]
  },
  {
   "cell_type": "code",
   "execution_count": 155,
   "id": "2e53dbf5",
   "metadata": {},
   "outputs": [],
   "source": [
    "# Turn Tweet into string\n",
    "random_tweet = \"Life like an ensemble: take the best choices from others and make your own\""
   ]
  },
  {
   "cell_type": "code",
   "execution_count": 156,
   "id": "854171cf",
   "metadata": {},
   "outputs": [],
   "source": [
    "def predict_on_sentence(model, sentence):\n",
    "    pred_prob = model.predict([sentence])\n",
    "    pred_label = tf.squeeze(tf.round(pred_prob)).numpy()\n",
    "    print(f\"Pred: {pred_label}\", \"(real disaster)\" if pred_label > 0 else \"(not real disaster)\", f\"Prob: {pred_prob[0][0]}\")\n",
    "    print(f\"Text:\\n{sentence}\")"
   ]
  },
  {
   "cell_type": "code",
   "execution_count": 157,
   "id": "09396ce6",
   "metadata": {},
   "outputs": [
    {
     "name": "stdout",
     "output_type": "stream",
     "text": [
      "Pred: 0.0 (not real disaster) Prob: 0.04752316325902939\n",
      "Text:\n",
      "Life like an ensemble: take the best choices from others and make your own\n"
     ]
    }
   ],
   "source": [
    "# Make a prediction on Tweet from the wild\n",
    "predict_on_sentence(model=model_6, # use the USE model\n",
    "                    sentence=random_tweet)"
   ]
  },
  {
   "cell_type": "code",
   "execution_count": 158,
   "id": "b57c2df5",
   "metadata": {},
   "outputs": [],
   "source": [
    "# Source - https://twitter.com/BeirutCityGuide/status/1290696551376007168\n",
    "beirut_tweet_1 = \"Reports that the smoke in Beirut sky contains nitric acid, which is toxic. Please share and refrain from stepping outside unless urgent. #Lebanon\"\n",
    "\n",
    "# Source - https://twitter.com/BeirutCityGuide/status/1290773498743476224\n",
    "beirut_tweet_2 = \"#Beirut declared a “devastated city”, two-week state of emergency officially declared. #Lebanon\""
   ]
  },
  {
   "cell_type": "code",
   "execution_count": 159,
   "id": "a82baa4e",
   "metadata": {},
   "outputs": [
    {
     "name": "stdout",
     "output_type": "stream",
     "text": [
      "Pred: 1.0 (real disaster) Prob: 0.9646546840667725\n",
      "Text:\n",
      "Reports that the smoke in Beirut sky contains nitric acid, which is toxic. Please share and refrain from stepping outside unless urgent. #Lebanon\n"
     ]
    }
   ],
   "source": [
    "# Predict on diaster Tweet 1\n",
    "predict_on_sentence(model=model_6, \n",
    "                    sentence=beirut_tweet_1)"
   ]
  },
  {
   "cell_type": "code",
   "execution_count": 160,
   "id": "e9263e19",
   "metadata": {},
   "outputs": [
    {
     "name": "stdout",
     "output_type": "stream",
     "text": [
      "Pred: 1.0 (real disaster) Prob: 0.9779004454612732\n",
      "Text:\n",
      "#Beirut declared a “devastated city”, two-week state of emergency officially declared. #Lebanon\n"
     ]
    }
   ],
   "source": [
    "# Predict on diaster Tweet 2\n",
    "predict_on_sentence(model=model_6, \n",
    "                    sentence=beirut_tweet_2)"
   ]
  },
  {
   "cell_type": "code",
   "execution_count": 84,
   "id": "273dc6e9",
   "metadata": {},
   "outputs": [
    {
     "data": {
      "text/plain": [
       "(3263, 4)"
      ]
     },
     "execution_count": 84,
     "metadata": {},
     "output_type": "execute_result"
    }
   ],
   "source": [
    "test_df.shape"
   ]
  },
  {
   "cell_type": "code",
   "execution_count": 85,
   "id": "b28d2dca",
   "metadata": {},
   "outputs": [
    {
     "data": {
      "text/html": [
       "<div>\n",
       "<style scoped>\n",
       "    .dataframe tbody tr th:only-of-type {\n",
       "        vertical-align: middle;\n",
       "    }\n",
       "\n",
       "    .dataframe tbody tr th {\n",
       "        vertical-align: top;\n",
       "    }\n",
       "\n",
       "    .dataframe thead th {\n",
       "        text-align: right;\n",
       "    }\n",
       "</style>\n",
       "<table border=\"1\" class=\"dataframe\">\n",
       "  <thead>\n",
       "    <tr style=\"text-align: right;\">\n",
       "      <th></th>\n",
       "      <th>id</th>\n",
       "      <th>keyword</th>\n",
       "      <th>location</th>\n",
       "      <th>text</th>\n",
       "    </tr>\n",
       "  </thead>\n",
       "  <tbody>\n",
       "    <tr>\n",
       "      <th>0</th>\n",
       "      <td>0</td>\n",
       "      <td>NaN</td>\n",
       "      <td>NaN</td>\n",
       "      <td>Just happened a terrible car crash</td>\n",
       "    </tr>\n",
       "    <tr>\n",
       "      <th>1</th>\n",
       "      <td>2</td>\n",
       "      <td>NaN</td>\n",
       "      <td>NaN</td>\n",
       "      <td>Heard about #earthquake is different cities, s...</td>\n",
       "    </tr>\n",
       "    <tr>\n",
       "      <th>2</th>\n",
       "      <td>3</td>\n",
       "      <td>NaN</td>\n",
       "      <td>NaN</td>\n",
       "      <td>there is a forest fire at spot pond, geese are...</td>\n",
       "    </tr>\n",
       "    <tr>\n",
       "      <th>3</th>\n",
       "      <td>9</td>\n",
       "      <td>NaN</td>\n",
       "      <td>NaN</td>\n",
       "      <td>Apocalypse lighting. #Spokane #wildfires</td>\n",
       "    </tr>\n",
       "    <tr>\n",
       "      <th>4</th>\n",
       "      <td>11</td>\n",
       "      <td>NaN</td>\n",
       "      <td>NaN</td>\n",
       "      <td>Typhoon Soudelor kills 28 in China and Taiwan</td>\n",
       "    </tr>\n",
       "  </tbody>\n",
       "</table>\n",
       "</div>"
      ],
      "text/plain": [
       "   id keyword location                                               text\n",
       "0   0     NaN      NaN                 Just happened a terrible car crash\n",
       "1   2     NaN      NaN  Heard about #earthquake is different cities, s...\n",
       "2   3     NaN      NaN  there is a forest fire at spot pond, geese are...\n",
       "3   9     NaN      NaN           Apocalypse lighting. #Spokane #wildfires\n",
       "4  11     NaN      NaN      Typhoon Soudelor kills 28 in China and Taiwan"
      ]
     },
     "execution_count": 85,
     "metadata": {},
     "output_type": "execute_result"
    }
   ],
   "source": [
    "test_df.head()"
   ]
  },
  {
   "cell_type": "code",
   "execution_count": 86,
   "id": "309395ff",
   "metadata": {},
   "outputs": [],
   "source": [
    "y_test_labels= test_df[\"text\"]"
   ]
  },
  {
   "cell_type": "code",
   "execution_count": 87,
   "id": "1d8e30c2",
   "metadata": {},
   "outputs": [
    {
     "data": {
      "text/plain": [
       "0                      Just happened a terrible car crash\n",
       "1       Heard about #earthquake is different cities, s...\n",
       "2       there is a forest fire at spot pond, geese are...\n",
       "3                Apocalypse lighting. #Spokane #wildfires\n",
       "4           Typhoon Soudelor kills 28 in China and Taiwan\n",
       "                              ...                        \n",
       "3258    EARTHQUAKE SAFETY LOS ANGELES ÛÒ SAFETY FASTE...\n",
       "3259    Storm in RI worse than last hurricane. My city...\n",
       "3260    Green Line derailment in Chicago http://t.co/U...\n",
       "3261    MEG issues Hazardous Weather Outlook (HWO) htt...\n",
       "3262    #CityofCalgary has activated its Municipal Eme...\n",
       "Name: text, Length: 3263, dtype: object"
      ]
     },
     "execution_count": 87,
     "metadata": {},
     "output_type": "execute_result"
    }
   ],
   "source": [
    "y_test_labels"
   ]
  },
  {
   "cell_type": "code",
   "execution_count": 88,
   "id": "1e62e80a",
   "metadata": {},
   "outputs": [],
   "source": [
    "y_labels_preds=model_6.predict(y_test_labels)\n",
    "y_labels_preds= tf.squeeze(tf.round(y_labels_preds))"
   ]
  },
  {
   "cell_type": "code",
   "execution_count": 89,
   "id": "47d17d1c",
   "metadata": {},
   "outputs": [
    {
     "data": {
      "text/plain": [
       "<tf.Tensor: shape=(10,), dtype=float32, numpy=array([1., 1., 1., 1., 1., 1., 0., 0., 0., 0.], dtype=float32)>"
      ]
     },
     "execution_count": 89,
     "metadata": {},
     "output_type": "execute_result"
    }
   ],
   "source": [
    "y_labels_preds[:10]"
   ]
  },
  {
   "cell_type": "code",
   "execution_count": 90,
   "id": "6c70b10f",
   "metadata": {},
   "outputs": [],
   "source": [
    "result_df = pd.DataFrame({'id': test_df[\"id\"], 'target': tf.cast(y_labels_preds, tf.int32)}, columns=['id', 'target'])"
   ]
  },
  {
   "cell_type": "code",
   "execution_count": 91,
   "id": "b6b668e9",
   "metadata": {},
   "outputs": [
    {
     "data": {
      "text/html": [
       "<div>\n",
       "<style scoped>\n",
       "    .dataframe tbody tr th:only-of-type {\n",
       "        vertical-align: middle;\n",
       "    }\n",
       "\n",
       "    .dataframe tbody tr th {\n",
       "        vertical-align: top;\n",
       "    }\n",
       "\n",
       "    .dataframe thead th {\n",
       "        text-align: right;\n",
       "    }\n",
       "</style>\n",
       "<table border=\"1\" class=\"dataframe\">\n",
       "  <thead>\n",
       "    <tr style=\"text-align: right;\">\n",
       "      <th></th>\n",
       "      <th>id</th>\n",
       "      <th>target</th>\n",
       "    </tr>\n",
       "  </thead>\n",
       "  <tbody>\n",
       "    <tr>\n",
       "      <th>0</th>\n",
       "      <td>0</td>\n",
       "      <td>1</td>\n",
       "    </tr>\n",
       "    <tr>\n",
       "      <th>1</th>\n",
       "      <td>2</td>\n",
       "      <td>1</td>\n",
       "    </tr>\n",
       "    <tr>\n",
       "      <th>2</th>\n",
       "      <td>3</td>\n",
       "      <td>1</td>\n",
       "    </tr>\n",
       "    <tr>\n",
       "      <th>3</th>\n",
       "      <td>9</td>\n",
       "      <td>1</td>\n",
       "    </tr>\n",
       "    <tr>\n",
       "      <th>4</th>\n",
       "      <td>11</td>\n",
       "      <td>1</td>\n",
       "    </tr>\n",
       "  </tbody>\n",
       "</table>\n",
       "</div>"
      ],
      "text/plain": [
       "   id  target\n",
       "0   0       1\n",
       "1   2       1\n",
       "2   3       1\n",
       "3   9       1\n",
       "4  11       1"
      ]
     },
     "execution_count": 91,
     "metadata": {},
     "output_type": "execute_result"
    }
   ],
   "source": [
    "result_df.head()"
   ]
  },
  {
   "cell_type": "code",
   "execution_count": 92,
   "id": "5843b386",
   "metadata": {},
   "outputs": [],
   "source": [
    "result_df.to_csv(\"first_submission.csv\",index=0)"
   ]
  },
  {
   "cell_type": "code",
   "execution_count": 93,
   "id": "ed608767",
   "metadata": {},
   "outputs": [
    {
     "data": {
      "text/plain": [
       "tf.float32"
      ]
     },
     "execution_count": 93,
     "metadata": {},
     "output_type": "execute_result"
    }
   ],
   "source": [
    "y_labels_preds.dtype"
   ]
  },
  {
   "cell_type": "markdown",
   "id": "7d5c6791",
   "metadata": {},
   "source": [
    "## The speed/score tradeoff"
   ]
  },
  {
   "cell_type": "code",
   "execution_count": 164,
   "id": "f4641a89",
   "metadata": {},
   "outputs": [],
   "source": [
    "# Calculate the time of predictions\n",
    "import time\n",
    "def pred_timer(model, samples):\n",
    "    start_time = time.perf_counter() # get start time\n",
    "    model.predict(samples) # make predictions\n",
    "    end_time = time.perf_counter() # get finish time\n",
    "    total_time = end_time-start_time # calculate how long predictions took to make\n",
    "    time_per_pred = total_time/len(X_val) # find prediction time per sample\n",
    "    return total_time, time_per_pred"
   ]
  },
  {
   "cell_type": "code",
   "execution_count": 165,
   "id": "556df960",
   "metadata": {},
   "outputs": [
    {
     "data": {
      "text/plain": [
       "(1.1104267999999138, 0.0014572530183725903)"
      ]
     },
     "execution_count": 165,
     "metadata": {},
     "output_type": "execute_result"
    }
   ],
   "source": [
    "# Calculate TF Hub Sentence Encoder prediction times\n",
    "model_6_total_pred_time, model_6_time_per_pred = pred_timer(model_6, X_val)\n",
    "model_6_total_pred_time, model_6_time_per_pred"
   ]
  },
  {
   "cell_type": "code",
   "execution_count": 167,
   "id": "8cfe9917",
   "metadata": {},
   "outputs": [
    {
     "data": {
      "text/plain": [
       "(0.08701750000000175, 0.00011419619422572408)"
      ]
     },
     "execution_count": 167,
     "metadata": {},
     "output_type": "execute_result"
    }
   ],
   "source": [
    "# Calculate Naive Bayes prediction times\n",
    "baseline_total_pred_time, baseline_time_per_pred = pred_timer(model_0, X_val)\n",
    "baseline_total_pred_time, baseline_time_per_pred"
   ]
  },
  {
   "cell_type": "code",
   "execution_count": 168,
   "id": "844a8557",
   "metadata": {
    "scrolled": false
   },
   "outputs": [
    {
     "data": {
      "image/png": "[encoded data removed]",
      "text/plain": [
       "<Figure size 720x504 with 1 Axes>"
      ]
     },
     "metadata": {
      "needs_background": "light"
     },
     "output_type": "display_data"
    }
   ],
   "source": [
    "import matplotlib.pyplot as plt\n",
    "\n",
    "plt.figure(figsize=(10, 7))\n",
    "plt.scatter(baseline_time_per_pred, baseline_results[\"f1\"], label=\"baseline\")\n",
    "plt.scatter(model_6_time_per_pred, model_6_results[\"f1\"], label=\"tf_hub_sentence_encoder\")\n",
    "plt.legend()\n",
    "plt.title(\"F1-score versus time per prediction\")\n",
    "plt.xlabel(\"Time per prediction\")\n",
    "plt.ylabel(\"F1-Score\");"
   ]
  }
 ],
 "metadata": {
  "kernelspec": {
   "display_name": "Python 3",
   "language": "python",
   "name": "python3"
  },
  "language_info": {
   "codemirror_mode": {
    "name": "ipython",
    "version": 3
   },
   "file_extension": ".py",
   "mimetype": "text/x-python",
   "name": "python",
   "nbconvert_exporter": "python",
   "pygments_lexer": "ipython3",
   "version": "3.8.0"
  }
 },
 "nbformat": 4,
 "nbformat_minor": 5
}
